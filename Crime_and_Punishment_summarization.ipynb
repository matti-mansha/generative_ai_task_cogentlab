{
 "cells": [
  {
   "cell_type": "markdown",
   "id": "c6306798",
   "metadata": {},
   "source": [
    "# Candidate Informaton:\n",
    "## Name: Matti Ur Rehman\n",
    "## Email: matti.mansha@gmail.com\n",
    "## Linkedin: https://www.linkedin.com/in/mattimansha/\n",
    "## Phone No.: +92 (312) 6075344"
   ]
  },
  {
   "cell_type": "code",
   "execution_count": 116,
   "id": "b0e7dd3f",
   "metadata": {},
   "outputs": [
    {
     "name": "stdout",
     "output_type": "stream",
     "text": [
      "Requirement already satisfied: langchain in c:\\users\\hp\\anaconda3\\envs\\myenv\\lib\\site-packages (0.0.291)\n",
      "Requirement already satisfied: PyYAML>=5.3 in c:\\users\\hp\\anaconda3\\envs\\myenv\\lib\\site-packages (from langchain) (6.0)\n",
      "Requirement already satisfied: SQLAlchemy<3,>=1.4 in c:\\users\\hp\\anaconda3\\envs\\myenv\\lib\\site-packages (from langchain) (2.0.20)\n",
      "Requirement already satisfied: aiohttp<4.0.0,>=3.8.3 in c:\\users\\hp\\anaconda3\\envs\\myenv\\lib\\site-packages (from langchain) (3.8.5)\n",
      "Requirement already satisfied: dataclasses-json<0.6.0,>=0.5.7 in c:\\users\\hp\\anaconda3\\envs\\myenv\\lib\\site-packages (from langchain) (0.5.14)\n",
      "Requirement already satisfied: langsmith<0.1.0,>=0.0.21 in c:\\users\\hp\\anaconda3\\envs\\myenv\\lib\\site-packages (from langchain) (0.0.37)\n",
      "Requirement already satisfied: numexpr<3.0.0,>=2.8.4 in c:\\users\\hp\\anaconda3\\envs\\myenv\\lib\\site-packages (from langchain) (2.8.6)\n",
      "Requirement already satisfied: numpy<2,>=1 in c:\\users\\hp\\anaconda3\\envs\\myenv\\lib\\site-packages (from langchain) (1.25.2)\n",
      "Requirement already satisfied: pydantic<3,>=1 in c:\\users\\hp\\anaconda3\\envs\\myenv\\lib\\site-packages (from langchain) (2.3.0)\n",
      "Requirement already satisfied: requests<3,>=2 in c:\\users\\hp\\anaconda3\\envs\\myenv\\lib\\site-packages (from langchain) (2.31.0)\n",
      "Requirement already satisfied: tenacity<9.0.0,>=8.1.0 in c:\\users\\hp\\anaconda3\\envs\\myenv\\lib\\site-packages (from langchain) (8.2.3)\n",
      "Requirement already satisfied: attrs>=17.3.0 in c:\\users\\hp\\anaconda3\\envs\\myenv\\lib\\site-packages (from aiohttp<4.0.0,>=3.8.3->langchain) (22.1.0)\n",
      "Requirement already satisfied: charset-normalizer<4.0,>=2.0 in c:\\users\\hp\\anaconda3\\envs\\myenv\\lib\\site-packages (from aiohttp<4.0.0,>=3.8.3->langchain) (2.0.4)\n",
      "Requirement already satisfied: multidict<7.0,>=4.5 in c:\\users\\hp\\anaconda3\\envs\\myenv\\lib\\site-packages (from aiohttp<4.0.0,>=3.8.3->langchain) (6.0.4)\n",
      "Requirement already satisfied: async-timeout<5.0,>=4.0.0a3 in c:\\users\\hp\\anaconda3\\envs\\myenv\\lib\\site-packages (from aiohttp<4.0.0,>=3.8.3->langchain) (4.0.3)\n",
      "Requirement already satisfied: yarl<2.0,>=1.0 in c:\\users\\hp\\anaconda3\\envs\\myenv\\lib\\site-packages (from aiohttp<4.0.0,>=3.8.3->langchain) (1.9.2)\n",
      "Requirement already satisfied: frozenlist>=1.1.1 in c:\\users\\hp\\anaconda3\\envs\\myenv\\lib\\site-packages (from aiohttp<4.0.0,>=3.8.3->langchain) (1.4.0)\n",
      "Requirement already satisfied: aiosignal>=1.1.2 in c:\\users\\hp\\anaconda3\\envs\\myenv\\lib\\site-packages (from aiohttp<4.0.0,>=3.8.3->langchain) (1.3.1)\n",
      "Requirement already satisfied: marshmallow<4.0.0,>=3.18.0 in c:\\users\\hp\\anaconda3\\envs\\myenv\\lib\\site-packages (from dataclasses-json<0.6.0,>=0.5.7->langchain) (3.20.1)\n",
      "Requirement already satisfied: typing-inspect<1,>=0.4.0 in c:\\users\\hp\\anaconda3\\envs\\myenv\\lib\\site-packages (from dataclasses-json<0.6.0,>=0.5.7->langchain) (0.9.0)\n",
      "Requirement already satisfied: annotated-types>=0.4.0 in c:\\users\\hp\\anaconda3\\envs\\myenv\\lib\\site-packages (from pydantic<3,>=1->langchain) (0.5.0)\n",
      "Requirement already satisfied: pydantic-core==2.6.3 in c:\\users\\hp\\anaconda3\\envs\\myenv\\lib\\site-packages (from pydantic<3,>=1->langchain) (2.6.3)\n",
      "Requirement already satisfied: typing-extensions>=4.6.1 in c:\\users\\hp\\anaconda3\\envs\\myenv\\lib\\site-packages (from pydantic<3,>=1->langchain) (4.7.1)\n",
      "Requirement already satisfied: idna<4,>=2.5 in c:\\users\\hp\\anaconda3\\envs\\myenv\\lib\\site-packages (from requests<3,>=2->langchain) (3.4)\n",
      "Requirement already satisfied: urllib3<3,>=1.21.1 in c:\\users\\hp\\anaconda3\\envs\\myenv\\lib\\site-packages (from requests<3,>=2->langchain) (1.26.16)\n",
      "Requirement already satisfied: certifi>=2017.4.17 in c:\\users\\hp\\anaconda3\\envs\\myenv\\lib\\site-packages (from requests<3,>=2->langchain) (2023.7.22)\n",
      "Requirement already satisfied: greenlet!=0.4.17 in c:\\users\\hp\\anaconda3\\envs\\myenv\\lib\\site-packages (from SQLAlchemy<3,>=1.4->langchain) (2.0.2)\n",
      "Requirement already satisfied: packaging>=17.0 in c:\\users\\hp\\anaconda3\\envs\\myenv\\lib\\site-packages (from marshmallow<4.0.0,>=3.18.0->dataclasses-json<0.6.0,>=0.5.7->langchain) (23.1)\n",
      "Requirement already satisfied: mypy-extensions>=0.3.0 in c:\\users\\hp\\anaconda3\\envs\\myenv\\lib\\site-packages (from typing-inspect<1,>=0.4.0->dataclasses-json<0.6.0,>=0.5.7->langchain) (1.0.0)\n",
      "Requirement already satisfied: unstructured in c:\\users\\hp\\anaconda3\\envs\\myenv\\lib\\site-packages (0.10.14)\n",
      "Requirement already satisfied: chardet in c:\\users\\hp\\anaconda3\\envs\\myenv\\lib\\site-packages (from unstructured) (5.2.0)\n",
      "Requirement already satisfied: filetype in c:\\users\\hp\\anaconda3\\envs\\myenv\\lib\\site-packages (from unstructured) (1.2.0)\n",
      "Requirement already satisfied: python-magic in c:\\users\\hp\\anaconda3\\envs\\myenv\\lib\\site-packages (from unstructured) (0.4.27)\n",
      "Requirement already satisfied: lxml in c:\\users\\hp\\anaconda3\\envs\\myenv\\lib\\site-packages (from unstructured) (4.9.2)\n",
      "Requirement already satisfied: nltk in c:\\users\\hp\\anaconda3\\envs\\myenv\\lib\\site-packages (from unstructured) (3.8.1)\n",
      "Requirement already satisfied: tabulate in c:\\users\\hp\\anaconda3\\envs\\myenv\\lib\\site-packages (from unstructured) (0.9.0)\n",
      "Requirement already satisfied: requests in c:\\users\\hp\\anaconda3\\envs\\myenv\\lib\\site-packages (from unstructured) (2.31.0)\n",
      "Requirement already satisfied: beautifulsoup4 in c:\\users\\hp\\anaconda3\\envs\\myenv\\lib\\site-packages (from unstructured) (4.12.2)\n",
      "Requirement already satisfied: emoji in c:\\users\\hp\\anaconda3\\envs\\myenv\\lib\\site-packages (from unstructured) (2.8.0)\n",
      "Requirement already satisfied: dataclasses-json in c:\\users\\hp\\anaconda3\\envs\\myenv\\lib\\site-packages (from unstructured) (0.5.14)\n",
      "Requirement already satisfied: soupsieve>1.2 in c:\\users\\hp\\anaconda3\\envs\\myenv\\lib\\site-packages (from beautifulsoup4->unstructured) (2.4)\n",
      "Requirement already satisfied: marshmallow<4.0.0,>=3.18.0 in c:\\users\\hp\\anaconda3\\envs\\myenv\\lib\\site-packages (from dataclasses-json->unstructured) (3.20.1)\n",
      "Requirement already satisfied: typing-inspect<1,>=0.4.0 in c:\\users\\hp\\anaconda3\\envs\\myenv\\lib\\site-packages (from dataclasses-json->unstructured) (0.9.0)\n",
      "Requirement already satisfied: click in c:\\users\\hp\\anaconda3\\envs\\myenv\\lib\\site-packages (from nltk->unstructured) (8.1.7)\n",
      "Requirement already satisfied: joblib in c:\\users\\hp\\anaconda3\\envs\\myenv\\lib\\site-packages (from nltk->unstructured) (1.3.2)\n",
      "Requirement already satisfied: regex>=2021.8.3 in c:\\users\\hp\\anaconda3\\envs\\myenv\\lib\\site-packages (from nltk->unstructured) (2023.8.8)\n",
      "Requirement already satisfied: tqdm in c:\\users\\hp\\anaconda3\\envs\\myenv\\lib\\site-packages (from nltk->unstructured) (4.66.1)\n",
      "Requirement already satisfied: charset-normalizer<4,>=2 in c:\\users\\hp\\anaconda3\\envs\\myenv\\lib\\site-packages (from requests->unstructured) (2.0.4)\n",
      "Requirement already satisfied: idna<4,>=2.5 in c:\\users\\hp\\anaconda3\\envs\\myenv\\lib\\site-packages (from requests->unstructured) (3.4)\n",
      "Requirement already satisfied: urllib3<3,>=1.21.1 in c:\\users\\hp\\anaconda3\\envs\\myenv\\lib\\site-packages (from requests->unstructured) (1.26.16)\n",
      "Requirement already satisfied: certifi>=2017.4.17 in c:\\users\\hp\\anaconda3\\envs\\myenv\\lib\\site-packages (from requests->unstructured) (2023.7.22)\n",
      "Requirement already satisfied: packaging>=17.0 in c:\\users\\hp\\anaconda3\\envs\\myenv\\lib\\site-packages (from marshmallow<4.0.0,>=3.18.0->dataclasses-json->unstructured) (23.1)\n",
      "Requirement already satisfied: mypy-extensions>=0.3.0 in c:\\users\\hp\\anaconda3\\envs\\myenv\\lib\\site-packages (from typing-inspect<1,>=0.4.0->dataclasses-json->unstructured) (1.0.0)\n",
      "Requirement already satisfied: typing-extensions>=3.7.4 in c:\\users\\hp\\anaconda3\\envs\\myenv\\lib\\site-packages (from typing-inspect<1,>=0.4.0->dataclasses-json->unstructured) (4.7.1)\n",
      "Requirement already satisfied: colorama in c:\\users\\hp\\anaconda3\\envs\\myenv\\lib\\site-packages (from click->nltk->unstructured) (0.4.6)\n",
      "Requirement already satisfied: pdf2image in c:\\users\\hp\\anaconda3\\envs\\myenv\\lib\\site-packages (1.16.3)\n",
      "Requirement already satisfied: pillow in c:\\users\\hp\\anaconda3\\envs\\myenv\\lib\\site-packages (from pdf2image) (10.0.0)\n",
      "Requirement already satisfied: pdfminer in c:\\users\\hp\\anaconda3\\envs\\myenv\\lib\\site-packages (20191125)\n",
      "Requirement already satisfied: pycryptodome in c:\\users\\hp\\anaconda3\\envs\\myenv\\lib\\site-packages (from pdfminer) (3.18.0)\n"
     ]
    },
    {
     "name": "stdout",
     "output_type": "stream",
     "text": [
      "Requirement already satisfied: pdfminer.six in c:\\users\\hp\\anaconda3\\envs\\myenv\\lib\\site-packages (20221105)\n",
      "Requirement already satisfied: charset-normalizer>=2.0.0 in c:\\users\\hp\\anaconda3\\envs\\myenv\\lib\\site-packages (from pdfminer.six) (2.0.4)\n",
      "Requirement already satisfied: cryptography>=36.0.0 in c:\\users\\hp\\anaconda3\\envs\\myenv\\lib\\site-packages (from pdfminer.six) (41.0.3)\n",
      "Requirement already satisfied: cffi>=1.12 in c:\\users\\hp\\anaconda3\\envs\\myenv\\lib\\site-packages (from cryptography>=36.0.0->pdfminer.six) (1.15.1)\n",
      "Requirement already satisfied: pycparser in c:\\users\\hp\\anaconda3\\envs\\myenv\\lib\\site-packages (from cffi>=1.12->cryptography>=36.0.0->pdfminer.six) (2.21)\n",
      "Requirement already satisfied: markdown in c:\\users\\hp\\anaconda3\\envs\\myenv\\lib\\site-packages (3.4.4)\n",
      "Requirement already satisfied: openai in c:\\users\\hp\\anaconda3\\envs\\myenv\\lib\\site-packages (0.28.0)\n",
      "Requirement already satisfied: requests>=2.20 in c:\\users\\hp\\anaconda3\\envs\\myenv\\lib\\site-packages (from openai) (2.31.0)\n",
      "Requirement already satisfied: tqdm in c:\\users\\hp\\anaconda3\\envs\\myenv\\lib\\site-packages (from openai) (4.66.1)\n",
      "Requirement already satisfied: aiohttp in c:\\users\\hp\\anaconda3\\envs\\myenv\\lib\\site-packages (from openai) (3.8.5)\n",
      "Requirement already satisfied: charset-normalizer<4,>=2 in c:\\users\\hp\\anaconda3\\envs\\myenv\\lib\\site-packages (from requests>=2.20->openai) (2.0.4)\n",
      "Requirement already satisfied: idna<4,>=2.5 in c:\\users\\hp\\anaconda3\\envs\\myenv\\lib\\site-packages (from requests>=2.20->openai) (3.4)\n",
      "Requirement already satisfied: urllib3<3,>=1.21.1 in c:\\users\\hp\\anaconda3\\envs\\myenv\\lib\\site-packages (from requests>=2.20->openai) (1.26.16)\n",
      "Requirement already satisfied: certifi>=2017.4.17 in c:\\users\\hp\\anaconda3\\envs\\myenv\\lib\\site-packages (from requests>=2.20->openai) (2023.7.22)\n",
      "Requirement already satisfied: attrs>=17.3.0 in c:\\users\\hp\\anaconda3\\envs\\myenv\\lib\\site-packages (from aiohttp->openai) (22.1.0)\n",
      "Requirement already satisfied: multidict<7.0,>=4.5 in c:\\users\\hp\\anaconda3\\envs\\myenv\\lib\\site-packages (from aiohttp->openai) (6.0.4)\n",
      "Requirement already satisfied: async-timeout<5.0,>=4.0.0a3 in c:\\users\\hp\\anaconda3\\envs\\myenv\\lib\\site-packages (from aiohttp->openai) (4.0.3)\n",
      "Requirement already satisfied: yarl<2.0,>=1.0 in c:\\users\\hp\\anaconda3\\envs\\myenv\\lib\\site-packages (from aiohttp->openai) (1.9.2)\n",
      "Requirement already satisfied: frozenlist>=1.1.1 in c:\\users\\hp\\anaconda3\\envs\\myenv\\lib\\site-packages (from aiohttp->openai) (1.4.0)\n",
      "Requirement already satisfied: aiosignal>=1.1.2 in c:\\users\\hp\\anaconda3\\envs\\myenv\\lib\\site-packages (from aiohttp->openai) (1.3.1)\n",
      "Requirement already satisfied: colorama in c:\\users\\hp\\anaconda3\\envs\\myenv\\lib\\site-packages (from tqdm->openai) (0.4.6)\n",
      "Requirement already satisfied: reportlab in c:\\users\\hp\\anaconda3\\envs\\myenv\\lib\\site-packages (4.0.4)\n",
      "Requirement already satisfied: pillow>=9.0.0 in c:\\users\\hp\\anaconda3\\envs\\myenv\\lib\\site-packages (from reportlab) (10.0.0)\n"
     ]
    }
   ],
   "source": [
    "# installation required\n",
    "! pip install langchain\n",
    "! pip install unstructured\n",
    "! pip install pdf2image\n",
    "! pip install pdfminer\n",
    "! pip install pdfminer.six\n",
    "! pip install markdown\n",
    "! pip install openai\n",
    "! pip install reportlab"
   ]
  },
  {
   "cell_type": "markdown",
   "id": "f9e5d8f6",
   "metadata": {},
   "source": [
    "# Source Material:\n",
    "URL: https://drive.google.com/uc?export=download&id=1WYaEoSozvUmJ_Lt5clAVs8NuSu43h9ps"
   ]
  },
  {
   "cell_type": "markdown",
   "id": "2071cc6b",
   "metadata": {},
   "source": [
    "# Data Loading"
   ]
  },
  {
   "cell_type": "code",
   "execution_count": 117,
   "id": "c1c2caf8",
   "metadata": {},
   "outputs": [],
   "source": [
    "from langchain.document_loaders import OnlinePDFLoader\n",
    "import re"
   ]
  },
  {
   "cell_type": "code",
   "execution_count": 118,
   "id": "5bc1e4db",
   "metadata": {},
   "outputs": [],
   "source": [
    "loader = OnlinePDFLoader(\"https://drive.google.com/uc?export=download&id=1WYaEoSozvUmJ_Lt5clAVs8NuSu43h9ps\")"
   ]
  },
  {
   "cell_type": "code",
   "execution_count": 119,
   "id": "8c17a9c7",
   "metadata": {},
   "outputs": [],
   "source": [
    "data = loader.load()"
   ]
  },
  {
   "cell_type": "code",
   "execution_count": 120,
   "id": "1b314f3e",
   "metadata": {},
   "outputs": [
    {
     "data": {
      "text/plain": [
       "dict_keys(['page_content', 'metadata'])"
      ]
     },
     "execution_count": 120,
     "metadata": {},
     "output_type": "execute_result"
    }
   ],
   "source": [
    "data[0].dict().keys()"
   ]
  },
  {
   "cell_type": "code",
   "execution_count": 121,
   "id": "645195a0",
   "metadata": {},
   "outputs": [
    {
     "data": {
      "text/plain": [
       "'Crime and Punishment\\n\\nBy Fyodor Dostoevsky\\n\\nDownload free eBooks of classic literature, books and novels at Planet eBook. Subscribe to our free eBooks blog and email newsletter.\\n\\nTranslator’s Preface\\n\\nA few words about Dostoevsky himself may help the Eng-\\n\\nDostoevsky was the son of a doctor. His parents were very hard- working and deeply religious people, but so poor that they lived with their five children in only two rooms. The father and mother spent their evenings in reading aloud to their children, generally from books of a serious charac- ter.\\n\\nlish reader to understand his work.\\n\\nThough always sickly and delicate Dostoevsky came out third in the final examination of the Petersburg school of Engineering. There he had already begun his first work, ‘Poor Folk.’\\n\\nThis story was published by the poet Nekrassov in his review and was received with acclamations. The shy, un- known youth found himself instantly something of a celebrity. A brilliant and successful career seemed to open be'"
      ]
     },
     "execution_count": 121,
     "metadata": {},
     "output_type": "execute_result"
    }
   ],
   "source": [
    "data[0].dict()[\"page_content\"][:1000]"
   ]
  },
  {
   "cell_type": "code",
   "execution_count": 122,
   "id": "baa4284c",
   "metadata": {},
   "outputs": [
    {
     "name": "stdout",
     "output_type": "stream",
     "text": [
      "Total characters: 1162137\n"
     ]
    }
   ],
   "source": [
    "print(\"Total characters: {}\".format(len(data[0].dict()[\"page_content\"])))"
   ]
  },
  {
   "cell_type": "markdown",
   "id": "edd41fb7",
   "metadata": {},
   "source": [
    "# Data Preprocessing"
   ]
  },
  {
   "cell_type": "code",
   "execution_count": 123,
   "id": "dc9c7994",
   "metadata": {},
   "outputs": [],
   "source": [
    "# Function to clean and preprocess text\n",
    "def preprocess_text(text):\n",
    "    # Remove pattern 1: \"\\n1\\x18\\x18\\nCrime and Punishment\"\n",
    "    text = re.sub(r'\\n\\d+\\x18\\x18\\n', '', text)\n",
    "\n",
    "    # Remove pattern 2: \"\\nFree eBooks at Planet eBook.com\\n1\\x18\\x18\\n\"\n",
    "    text = re.sub(r'\\nFree eBooks at Planet eBook.com\\n', '', text)\n",
    "    \n",
    "    # Remove pattern 3: \"\\nCrime and Punishment\\n\"\n",
    "    text = text.replace('\\nCrime and Punishment\\n', '')\n",
    "\n",
    "    # Remove pattern 4: \"\\n\\x18\\x18\\x18\\n\"\n",
    "    text = text.replace('\\n\\x18\\x18\\x18\\n', '')\n",
    "    \n",
    "    # Remove pattern 5: \"\\n\\x18\"\n",
    "    text = text.replace('\\n\\x18', '')\n",
    "\n",
    "    # Remove pattern 6: \"\\n\\x180\"\n",
    "    text = text.replace('\\n\\x180', '')\n",
    "\n",
    "    # Remove pattern 7: \"\\n\\x181\"\n",
    "    text = text.replace('\\n\\x181', '')\n",
    "\n",
    "    # Remove pattern 8: \"\\n\\x18\\x18\"\n",
    "    text = text.replace('\\n\\x18\\x18', '')\n",
    "\n",
    "    # Remove pattern 9: \"\\n\\x18\\x18\"\n",
    "    text = text.replace('\\n\\x18\\x18', '')\n",
    "    \n",
    "    # Remove pattern 10: \"\\n\\x18\\n\"\n",
    "    text = text.replace('\\n\\x18\\n', ' ')    \n",
    "    \n",
    "\n",
    "    # Example: Remove extra line breaks\n",
    "    text = text.replace('\\n\\n', '\\n')\n",
    "\n",
    "    return text\n",
    "\n",
    "\n",
    "\n",
    "# Function to detect part boundaries\n",
    "def detect_part_boundaries(text):\n",
    "    # Define a regex pattern to match part headings (e.g., \"Part I\")\n",
    "    part_pattern = r'Part [IVXLCDM]+\\n'\n",
    "\n",
    "    # Find all part headings in the text\n",
    "    part_headings = re.findall(part_pattern, text)\n",
    "\n",
    "    # Initialize a list to store parts with their positions\n",
    "    parts = []\n",
    "\n",
    "    # Add the \"Translator’s Preface\" section as the first part\n",
    "    translator_preface_start = 0\n",
    "    part_start = text.find(part_headings[0])\n",
    "    if part_start != 0:\n",
    "        parts.append((\"Translator’s Preface\", text[translator_preface_start:part_start]))\n",
    "\n",
    "    for i in range(len(part_headings) - 1):\n",
    "        part_start = text.find(part_headings[i])\n",
    "        part_end = text.find(part_headings[i + 1])\n",
    "        part_text = text[part_start:part_end]\n",
    "        parts.append((part_headings[i].strip(), part_text))\n",
    "\n",
    "    # Add the last part\n",
    "    part_start = text.find(part_headings[-1])\n",
    "    part_text = text[part_start:]\n",
    "    parts.append((part_headings[-1].strip(), part_text))\n",
    "\n",
    "    return parts\n",
    "\n",
    "\n",
    "# Function to detect chapter boundaries within a part\n",
    "def detect_chapter_boundaries(part_text):\n",
    "    # Define a regex pattern to match chapter headings (e.g., \"Chapter I\")\n",
    "    chapter_pattern = r'Chapter [IVXLCDM]+\\n'\n",
    "\n",
    "    # Split the part text into chapters using the chapter pattern\n",
    "    chapters = re.split(chapter_pattern, part_text)\n",
    "\n",
    "    # Remove any empty strings from the split\n",
    "    chapters = [chapter.strip() for chapter in chapters if chapter.strip()]\n",
    "\n",
    "    return chapters"
   ]
  },
  {
   "cell_type": "code",
   "execution_count": 124,
   "id": "0d3d5957",
   "metadata": {},
   "outputs": [],
   "source": [
    "part1 = detect_part_boundaries(preprocess_text(data[0].dict()[\"page_content\"]))[0]"
   ]
  },
  {
   "cell_type": "code",
   "execution_count": 125,
   "id": "177c5855",
   "metadata": {},
   "outputs": [
    {
     "data": {
      "text/plain": [
       "('Translator’s Preface',\n",
       " 'Crime and Punishment\\nBy Fyodor Dostoevsky\\nDownload free eBooks of classic literature, books and novels at Planet eBook. Subscribe to our free eBooks blog and email newsletter.\\nTranslator’s Preface\\nA few words about Dostoevsky himself may help the Eng-\\nDostoevsky was the son of a doctor. His parents were very hard- working and deeply religious people, but so poor that they lived with their five children in only two rooms. The father and mother spent their evenings in reading aloud to their children, generally from books of a serious charac- ter.\\nlish reader to understand his work.\\nThough always sickly and delicate Dostoevsky came out third in the final examination of the Petersburg school of Engineering. There he had already begun his first work, ‘Poor Folk.’\\nThis story was published by the poet Nekrassov in his review and was received with acclamations. The shy, un- known youth found himself instantly something of a celebrity. A brilliant and successful career seemed to open before him, but those hopes were soon dashed. In 1849 he was arrested.\\nThough neither by temperament nor conviction a revolu- tionist, Dostoevsky was one of a little group of young men who met together to read Fourier and Proudhon. He was ac- cused of ‘taking part in conversations against the censorship, of reading a letter from Byelinsky to Gogol, and of knowing of the intention to set up a printing press.’ Under Nicholas I.\\n\\n(that ‘stern and just man,’ as Maurice Baring calls him) this was enough, and he was condemned to death. After eight months’ imprisonment he was with twenty-one others tak- en out to the Semyonovsky Square to be shot. Writing to his brother Mihail, Dostoevsky says: ‘They snapped words over our heads, and they made us put on the white shirts worn by persons condemned to death. Thereupon we were bound in threes to stakes, to suffer execution. Being the third in the row, I concluded I had only a few minutes of life before me. I thought of you and your dear ones and I contrived to kiss Plestcheiev and Dourov, who were next to me, and to bid them farewell. Suddenly the troops beat a tattoo, we were unbound, brought back upon the scaffold, and informed that his Majesty had spared us our lives.’ The sentence was commuted to hard labour.\\nOne of the prisoners, Grigoryev, went mad as soon as he\\nwas untied, and never regained his sanity.\\nThe intense suffering of this experience left a lasting stamp on Dostoevsky’s mind. Though his religious temper led him in the end to accept every suffering with resignation and to regard it as a blessing in his own case, he constantly recurs to the subject in his writings. He describes the awful agony of the condemned man and insists on the cruelty of inflicting such torture. Then followed four years of penal servitude, spent in the company of common criminals in Siberia, where he began the ‘Dead House,’ and some years of service in a disciplinary battalion.\\nHe had shown signs of some obscure nervous disease be- fore his arrest and this now developed into violent attacks of\\n\\nepilepsy, from which he suffered for the rest of his life. The fits occurred three or four times a year and were more fre- quent in periods of great strain. In 1859 he was allowed to return to Russia. He started a journal— ‘Vremya,’ which was forbidden by the Censorship through a misunderstanding. In 1864 he lost his first wife and his brother Mihail. He was in terrible poverty, yet he took upon himself the payment of his brother’s debts. He started another journal—‘The Ep- och,’ which within a few months was also prohibited. He was weighed down by debt, his brother’s family was depen- dent on him, he was forced to write at heart-breaking speed, and is said never to have corrected his work. The later years of his life were much softened by the tenderness and devo- tion of his second wife.\\nIn June 1880 he made his famous speech at the unveil- ing of the monument to Pushkin in Moscow and he was received with extraordinary demonstrations of love and honour.\\nA few months later Dostoevsky died. He was followed to the grave by a vast multitude of mourners, who ‘gave the hapless man the funeral of a king.’ He is still probably the most widely read writer in Russia.\\nIn the words of a Russian critic, who seeks to explain the feeling inspired by Dostoevsky: ‘He was one of ourselves, a man of our blood and our bone, but one who has suffered and has seen so much more deeply than we have his insight impresses us as wisdom … that wisdom of the heart which we seek that we may learn from it how to live. All his other gifts came to him from nature, this he won for himself and\\n\\nthrough it he became great.’\\n\\n')"
      ]
     },
     "execution_count": 125,
     "metadata": {},
     "output_type": "execute_result"
    }
   ],
   "source": [
    "part1"
   ]
  },
  {
   "cell_type": "markdown",
   "id": "aa97c8a4",
   "metadata": {},
   "source": [
    "# Formatting and Saving in correct format"
   ]
  },
  {
   "cell_type": "code",
   "execution_count": 127,
   "id": "a541c6bf",
   "metadata": {},
   "outputs": [],
   "source": [
    "# Function to create a Markdown file from parts and chapters\n",
    "def create_markdown_file(parts):\n",
    "    for part_num, (part_heading, part_text) in enumerate(parts):\n",
    "        # Extract the part number from the part heading (e.g., \"Part I\" => \"I\")\n",
    "        part_match = re.search(r'Part ([IVXLCDM]+)\\n', part_heading)\n",
    "        if part_match:\n",
    "            part_number = part_match.group(1)\n",
    "        else:\n",
    "            part_number = str(part_num)\n",
    "\n",
    "        # Special handling for part 0 (Translator’s Preface)\n",
    "        if part_number == '0':\n",
    "            part_filename = f'translator_preface.md'\n",
    "            # Create a Markdown file for the Translator’s Preface\n",
    "            with open(part_filename, 'w', encoding='utf-8') as part_file:\n",
    "                # Write the part heading to the Markdown file\n",
    "                part_file.write(f\"# {part_heading}\\n\\n\")\n",
    "                # Write the entire Translator’s Preface text\n",
    "                part_file.write(part_text)\n",
    "        else:\n",
    "            # Remove leading newline characters from the part heading and \"Part\" label\n",
    "            part_heading = part_heading.lstrip('\\n').replace('Part', '').strip()\n",
    "\n",
    "            # Create a Markdown file for the part\n",
    "            part_filename = f'part_{part_number}.md'\n",
    "\n",
    "            with open(part_filename, 'w', encoding='utf-8') as part_file:\n",
    "                # Write the part heading to the Markdown file\n",
    "                part_file.write(f\"# Part {part_heading}\\n\\n\")  # Include \"Part\" in the chapter heading\n",
    "\n",
    "                # Detect chapter boundaries within the part\n",
    "                chapters = detect_chapter_boundaries(part_text)\n",
    "\n",
    "                # Skip the first chapter heading that repeats the part heading\n",
    "                first_chapter = True\n",
    "\n",
    "                for i, chapter_text in enumerate(chapters):\n",
    "                    # Skip the first chapter heading\n",
    "                    if first_chapter:\n",
    "                        first_chapter = False\n",
    "                        continue\n",
    "\n",
    "                    # Create a Markdown heading for each chapter within the part\n",
    "                    chapter_heading = f\"## Chapter {i}\\n\\n\"\n",
    "\n",
    "                    # Write the chapter heading and chapter text to the Markdown file\n",
    "                    part_file.write(chapter_heading)\n",
    "                    part_file.write(chapter_text)\n",
    "                    part_file.write('\\n\\n')  # Add an extra newline for separation between chapters\n"
   ]
  },
  {
   "cell_type": "code",
   "execution_count": 128,
   "id": "6299055d",
   "metadata": {},
   "outputs": [],
   "source": [
    "# Preprocess the text\n",
    "text = preprocess_text(data[0].dict()[\"page_content\"])\n",
    "\n",
    "# Detect part boundaries\n",
    "parts = detect_part_boundaries(text)\n",
    "\n",
    "# Create Markdown files for each part and write the chapters in Markdown format\n",
    "create_markdown_file(parts)"
   ]
  },
  {
   "cell_type": "markdown",
   "id": "e982ddf8",
   "metadata": {},
   "source": [
    "# Splitting"
   ]
  },
  {
   "cell_type": "code",
   "execution_count": 129,
   "id": "dd6b97a8",
   "metadata": {},
   "outputs": [
    {
     "name": "stdout",
     "output_type": "stream",
     "text": [
      "part 1\n",
      "part 2\n",
      "part 3\n",
      "part 4\n",
      "part 5\n",
      "part 6\n",
      "translator preface\n"
     ]
    }
   ],
   "source": [
    "import os\n",
    "import glob\n",
    "import markdown\n",
    "from langchain.text_splitter import MarkdownHeaderTextSplitter\n",
    "from langchain.text_splitter import RecursiveCharacterTextSplitter\n",
    "markdown_directory = os.getcwd()\n",
    "\n",
    "headers_to_split_on = [\n",
    "    (\"#\", \"Header 1\"),\n",
    "    (\"##\", \"Header 2\"),\n",
    "]\n",
    "markdown_splitter = MarkdownHeaderTextSplitter(headers_to_split_on=headers_to_split_on)\n",
    "# chunk_size = 250\n",
    "# chunk_overlap = 30\n",
    "# text_splitter = RecursiveCharacterTextSplitter(\n",
    "#     chunk_size=chunk_size, chunk_overlap=chunk_overlap\n",
    "# )\n",
    "\n",
    "splits = []\n",
    "\n",
    "for markdown_file in glob.glob(os.path.join(markdown_directory, \"*.md\")):\n",
    "    # Read the Markdown file\n",
    "    print(markdown_file.split('\\\\')[-1].split('.')[0].replace(\"_\", ' '))\n",
    "    with open(markdown_file, 'r', encoding='utf-8') as file:\n",
    "        markdown_text = file.read()\n",
    "    md_header_splits = markdown_splitter.split_text(markdown_text)\n",
    "    \n",
    "    for split in md_header_splits:\n",
    "        splits.append(split)"
   ]
  },
  {
   "cell_type": "code",
   "execution_count": 135,
   "id": "32c4dfa8",
   "metadata": {},
   "outputs": [
    {
     "name": "stdout",
     "output_type": "stream",
     "text": [
      "Total Documents: 40\n"
     ]
    }
   ],
   "source": [
    "print(\"Total Documents: {}\".format(len(splits)))"
   ]
  },
  {
   "cell_type": "code",
   "execution_count": 136,
   "id": "43644237",
   "metadata": {},
   "outputs": [
    {
     "data": {
      "text/plain": [
       "Document(page_content='Zossimov was a tall, fat man with a puffy, colourless, clean-\\nshaven face and straight flaxen hair. He wore spectacles, and a big gold ring on his fat finger. He was twenty-seven. He had on a light grey fashionable loose coat, light sum- mer trousers, and everything about him loose, fashionable and spick and span; his linen was irreproachable, his watch- chain was massive. In manner he was slow and, as it were, nonchalant, and at the same time studiously free and easy; he made efforts to conceal his self-importance, but it was apparent at every instant. All his acquaintances found him tedious, but said he was clever at his work.\\n‘I’ve been to you twice to-day, brother. You see, he’s come\\nto himself,’ cried Razumihin.\\n‘I see, I see; and how do we feel now, eh?’ said Zossimov to Raskolnikov, watching him carefully and, sitting down at the foot of the sofa, he settled himself as comfortably as he could.\\n‘He is still depressed,’ Razumihin went on. ‘We’ve just\\nchanged his linen and he almost cried.’\\n‘That’s very natural; you might have put it off if he did not wish it…. His pulse is first-rate. Is your head still ach- ing, eh?’\\n‘I am well, I am perfectly well!’ Raskolnikov declared positively and irritably. He raised himself on the sofa and\\nlooked at them with glittering eyes, but sank back on to the pillow at once and turned to the wall. Zossimov watched him intently.\\n‘Very good…. Going on all right,’ he said lazily. ‘Has he\\neaten anything?’\\nThey told him, and asked what he might have. ‘He may have anything … soup, tea … mushrooms and cucumbers, of course, you must not give him; he’d better not have meat either, and … but no need to tell you that!’ Razumihin and he looked at each other. ‘No more medicine or anything. I’ll look at him again to-morrow. Perhaps, to- day even … but never mind …’\\n‘To-morrow evening I shall take him for a walk,’ said Ra- zumihin. ‘We are going to the Yusupov garden and then to the Palais de Crystal.’\\n‘I would not disturb him to-morrow at all, but I don’t\\nknow … a little, maybe … but we’ll see.’\\n‘Ach, what a nuisance! I’ve got a house-warming party to-night; it’s only a step from here. Couldn’t he come? He could lie on the sofa. You are coming?’ Razumihin said to Zossimov. ‘Don’t forget, you promised.’\\n‘All right, only rather later. What are you going to do?’ ‘Oh, nothing—tea, vodka, herrings. There will be a pie …\\njust our friends.’ ‘And who?’ ‘All neighbours here, almost all new friends, except my old uncle, and he is new too—he only arrived in Petersburg yesterday to see to some business of his. We meet once in five years.’\\n‘What is he?’ ‘He’s been stagnating all his life as a district postmas- ter; gets a little pension. He is sixty-five—not worth talking about…. But I am fond of him. Porfiry Petrovitch, the head of the Investigation Department here … But you know him.’\\n‘Is he a relation of yours, too?’ ‘A very distant one. But why are you scowling? Because\\nyou quarrelled once, won’t you come then?’\\n‘I don’t care a damn for him.’ ‘So much the better. Well, there will be some students, a teacher, a government clerk, a musician, an officer and Za- metov.’\\n‘Do tell me, please, what you or he’—Zossimov nodded at\\nRaskolnikov— ‘can have in common with this Zametov?’\\n‘Oh, you particular gentleman! Principles! You are worked by principles, as it were by springs; you won’t ven- ture to turn round on your own account. If a man is a nice fellow, that’s the only principle I go upon. Zametov is a de- lightful person.’\\n‘Though he does take bribes.’ ‘Well, he does! and what of it? I don’t care if he does take bribes,’ Razumihin cried with unnatural irritability. ‘I don’t praise him for taking bribes. I only say he is a nice man in his own way! But if one looks at men in all ways—are there many good ones left? Why, I am sure I shouldn’t be worth a baked onion myself … perhaps with you thrown in.’\\n‘That’s too little; I’d give two for you.’ ‘And I wouldn’t give more than one for you. No more\\nof your jokes! Zametov is no more than a boy. I can pull his hair and one must draw him not repel him. You’ll never improve a man by repelling him, especially a boy. One has to be twice as careful with a boy. Oh, you progressive dull- ards! You don’t understand. You harm yourselves running another man down…. But if you want to know, we really have something in common.’\\n‘I should like to know what.’ ‘Why, it’s all about a house-painter…. We are getting him out of a mess! Though indeed there’s nothing to fear now. The matter is absolutely self-evident. We only put on steam.’\\n‘A painter?’ ‘Why, haven’t I told you about it? I only told you the beginning then about the murder of the old pawnbroker- woman. Well, the painter is mixed up in it …’\\n‘Oh, I heard about that murder before and was rather in- terested in it … partly … for one reason…. I read about it in the papers, too….’\\n‘Lizaveta was murdered, too,’ Nastasya blurted out, sud- denly addressing Raskolnikov. She remained in the room all the time, standing by the door listening.\\n‘Lizaveta,’ murmured Raskolnikov hardly audibly. ‘Lizaveta, who sold old clothes. Didn’t you know her? She\\nused to come here. She mended a shirt for you, too.’\\nRaskolnikov turned to the wall where in the dirty, yel- low paper he picked out one clumsy, white flower with brown lines on it and began examining how many petals there were in it, how many scallops in the petals and how\\nmany lines on them. He felt his arms and legs as lifeless as though they had been cut off. He did not attempt to move, but stared obstinately at the flower.\\n‘But what about the painter?’ Zossimov interrupted Nas- tasya’s chatter with marked displeasure. She sighed and was silent.\\n‘Why, he was accused of the murder,’ Razumihin went\\non hotly.\\n‘Was there evidence against him then?’ ‘Evidence, indeed! Evidence that was no evidence, and that’s what we have to prove. It was just as they pitched on those fellows, Koch and Pestryakov, at first. Foo! how stu- pidly it’s all done, it makes one sick, though it’s not one’s business! Pestryakov may be coming to-night…. By the way, Rodya, you’ve heard about the business already; it hap- pened before you were ill, the day before you fainted at the police office while they were talking about it.’\\nZossimov looked curiously at Raskolnikov. He did not\\nstir.\\n‘But I say, Razumihin, I wonder at you. What a busybody\\nyou are!’ Zossimov observed.\\n‘Maybe I am, but we will get him off anyway,’ shouted Razumihin, bringing his fist down on the table. ‘What’s the most offensive is not their lying—one can always forgive ly- ing—lying is a delightful thing, for it leads to truth—what is offensive is that they lie and worship their own lying…. I respect Porfiry, but … What threw them out at first? The door was locked, and when they came back with the porter it was open. So it followed that Koch and Pestryakov were\\nthe murderers—that was their logic!’\\n‘But don’t excite yourself; they simply detained them, they could not help that…. And, by the way, I’ve met that man Koch. He used to buy unredeemed pledges from the old woman? Eh?’\\n‘Yes, he is a swindler. He buys up bad debts, too. He makes a profession of it. But enough of him! Do you know what makes me angry? It’s their sickening rotten, petrified routine…. And this case might be the means of introduc- ing a new method. One can show from the psychological data alone how to get on the track of the real man. ‘We have facts,’ they say. But facts are not everything—at least half the business lies in how you interpret them!’\\n‘Can you interpret them, then?’ ‘Anyway, one can’t hold one’s tongue when one has a feel- ing, a tangible feeling, that one might be a help if only…. Eh! Do you know the details of the case?’\\n‘I am waiting to hear about the painter.’ ‘Oh, yes! Well, here’s the story. Early on the third day after the murder, when they were still dandling Koch and Pes- tryakov—though they accounted for every step they took and it was as plain as a pikestaff- an unexpected fact turned up. A peasant called Dushkin, who keeps a dram-shop fac- ing the house, brought to the police office a jeweller’s case containing some gold ear-rings, and told a long rigamarole. ‘The day before yesterday, just after eight o’clock’—mark the day and the hour!—‘a journeyman house-painter, Nikolay, who had been in to see me already that day, brought me this box of gold ear-rings and stones, and asked me to give\\nhim two roubles for them. When I asked him where he got them, he said that he picked them up in the street. I did not ask him anything more.’ I am telling you Dushkin’s story. ‘I gave him a note’—a rouble that is—‘for I thought if he did not pawn it with me he would with another. It would all come to the same thing—he’d spend it on drink, so the thing had better be with me. The further you hide it the quicker you will find it, and if anything turns up, if I hear any rumours, I’ll take it to the police.’ Of course, that’s all taradiddle; he lies like a horse, for I know this Dushkin, he is a pawnbroker and a receiver of stolen goods, and he did not cheat Nikolay out of a thirty-rouble trinket in or- der to give it to the police. He was simply afraid. But no matter, to return to Dushkin’s story. ‘I’ve known this peas- ant, Nikolay Dementyev, from a child; he comes from the same province and district of Zaraïsk, we are both Ryazan men. And though Nikolay is not a drunkard, he drinks, and I knew he had a job in that house, painting work with Dmi- tri, who comes from the same village, too. As soon as he got the rouble he changed it, had a couple of glasses, took his change and went out. But I did not see Dmitri with him then. And the next day I heard that someone had murdered Alyona Ivanovna and her sister, Lizaveta Ivanovna, with an axe. I knew them, and I felt suspicious about the ear- rings at once, for I knew the murdered woman lent money on pledges. I went to the house, and began to make care- ful inquiries without saying a word to anyone. First of all I asked, ‘Is Nikolay here?’ Dmitri told me that Nikolay had gone off on the spree; he had come home at daybreak drunk,\\nstayed in the house about ten minutes, and went out again. Dmitri didn’t see him again and is finishing the job alone. And their job is on the same staircase as the murder, on the second floor. When I heard all that I did not say a word to anyone’—that’s Dushkin’s tale—‘but I found out what I could about the murder, and went home feeling as suspi- cious as ever. And at eight o’clock this morning’— that was the third day, you understand—‘I saw Nikolay coming in, not sober, though not to say very drunk—he could under- stand what was said to him. He sat down on the bench and did not speak. There was only one stranger in the bar and a man I knew asleep on a bench and our two boys. ‘Have you seen Dmitri?’ said I. ‘No, I haven’t,’ said he. ‘And you’ve not been here either?’ ‘Not since the day before yesterday,’ said he. ‘And where did you sleep last night?’ ‘In Peski, with the Kolomensky men.’ ‘And where did you get those ear-rings?’ I asked. ‘I found them in the street,’ and the way he said it was a bit queer; he did not look at me. ‘Did you hear what happened that very evening, at that very hour, on that same staircase?’ said I. ‘No,’ said he, ‘I had not heard,’ and all the while he was listening, his eyes were staring out of his head and he turned as white as chalk. I told him all about it and he took his hat and began getting up. I wanted to keep him. ‘Wait a bit, Nikolay,’ said I, ‘won’t you have a drink?’ And I signed to the boy to hold the door, and I came out from be- hind the bar; but he darted out and down the street to the turning at a run. I have not seen him since. Then my doubts were at an end—it was his doing, as clear as could be….’’\\n‘I should think so,’ said Zossimov.\\n00\\n‘Wait! Hear the end. Of course they sought high and low for Nikolay; they detained Dushkin and searched his house; Dmitri, too, was arrested; the Kolomensky men also were turned inside out. And the day before yesterday they ar- rested Nikolay in a tavern at the end of the town. He had gone there, taken the silver cross off his neck and asked for a dram for it. They gave it to him. A few minutes afterwards the woman went to the cowshed, and through a crack in the wall she saw in the stable adjoining he had made a noose of his sash from the beam, stood on a block of wood, and was trying to put his neck in the noose. The woman screeched her hardest; people ran in. ‘So that’s what you are up to!’ ‘Take me,’ he says, ‘to such-and-such a police officer; I’ll confess everything.’ Well, they took him to that police sta- tion— that is here—with a suitable escort. So they asked him this and that, how old he is, ‘twenty-two,’ and so on. At the question, ‘When you were working with Dmitri, didn’t you see anyone on the staircase at such-and-such a time?’— answer: ‘To be sure folks may have gone up and down, but I did not notice them.’ ‘And didn’t you hear anything, any noise, and so on?’ ‘We heard nothing special.’ ‘And did you hear, Nikolay, that on the same day Widow So-and-so and her sister were murdered and robbed?’ ‘I never knew a thing about it. The first I heard of it was from Afanasy Pavlovitch the day before yesterday.’ ‘And where did you find the ear- rings?’ ‘I found them on the pavement. ‘Why didn’t you go to work with Dmitri the other day?’ ‘Because I was drink- ing.’ ‘And where were you drinking?’ ‘Oh, in such-and-such a place.’ ‘Why did you run away from Dushkin’s?’ ‘Because\\n01\\nI was awfully frightened.’ ‘What were you frightened of?’ ‘That I should be accused.’ ‘How could you be frightened, if you felt free from guilt?’ Now, Zossimov, you may not be- lieve me, that question was put literally in those words. I know it for a fact, it was repeated to me exactly! What do you say to that?’\\n‘Well, anyway, there’s the evidence.’ ‘I am not talking of the evidence now, I am talking about that question, of their own idea of themselves. Well, so they squeezed and squeezed him and he confessed: ‘I did not find it in the street, but in the flat where I was painting with Dmitri.’ ‘And how was that?’ ‘Why, Dmitri and I were paint- ing there all day, and we were just getting ready to go, and Dmitri took a brush and painted my face, and he ran off and I after him. I ran after him, shouting my hardest, and at the bottom of the stairs I ran right against the porter and some gentlemen—and how many gentlemen were there I don’t remember. And the porter swore at me, and the other porter swore, too, and the porter’s wife came out, and swore at us, too; and a gentleman came into the entry with a lady, and he swore at us, too, for Dmitri and I lay right across the way. I got hold of Dmitri’s hair and knocked him down and began beating him. And Dmitri, too, caught me by the hair and began beating me. But we did it all not for temper but in a friendly way, for sport. And then Dmitri escaped and ran into the street, and I ran after him; but I did not catch him, and went back to the flat alone; I had to clear up my things. I began putting them together, expecting Dmitri to come, and there in the passage, in the corner by the door, I\\n0\\x18\\nstepped on the box. I saw it lying there wrapped up in paper. I took off the paper, saw some little hooks, undid them, and in the box were the ear-rings….’’\\n‘Behind the door? Lying behind the door? Behind the door?’ Raskolnikov cried suddenly, staring with a blank look of terror at Razumihin, and he slowly sat up on the sofa, leaning on his hand.\\n‘Yes … why? What’s the matter? What’s wrong?’ Razumi-\\nhin, too, got up from his seat.\\n‘Nothing,’ Raskolnikov answered faintly, turning to the\\nwall. All were silent for a while.\\n‘He must have waked from a dream,’ Razumihin said at last, looking inquiringly at Zossimov. The latter slightly shook his head.\\n‘Well, go on,’ said Zossimov. ‘What next?’ ‘What next? As soon as he saw the ear-rings, forgetting Dmitri and everything, he took up his cap and ran to Du- shkin and, as we know, got a rouble from him. He told a lie saying he found them in the street, and went off drink- ing. He keeps repeating his old story about the murder: ‘I know nothing of it, never heard of it till the day before yes- terday.’ ‘And why didn’t you come to the police till now?’ ‘I was frightened.’ ‘And why did you try to hang yourself?’ ‘From anxiety.’ ‘What anxiety?’ ‘That I should be accused of it.’ Well, that’s the whole story. And now what do you sup- pose they deduced from that?’\\n‘Why, there’s no supposing. There’s a clue, such as it is, a\\nfact. You wouldn’t have your painter set free?’\\n‘Now they’ve simply taken him for the murderer. They\\n0\\x18\\nhaven’t a shadow of doubt.’\\n‘That’s nonsense. You are excited. But what about the ear-rings? You must admit that, if on the very same day and hour ear-rings from the old woman’s box have come into Nikolay’s hands, they must have come there somehow. That’s a good deal in such a case.’\\n‘How did they get there? How did they get there?’ cried Razumihin. ‘How can you, a doctor, whose duty it is to study man and who has more opportunity than anyone else for studying human nature—how can you fail to see the character of the man in the whole story? Don’t you see at once that the answers he has given in the examination are the holy truth? They came into his hand precisely as he has told us—he stepped on the box and picked it up.’\\n‘The holy truth! But didn’t he own himself that he told a\\nlie at first?’\\n‘Listen to me, listen attentively. The porter and Koch and Pestryakov and the other porter and the wife of the first porter and the woman who was sitting in the porter’s lodge and the man Kryukov, who had just got out of a cab at that minute and went in at the entry with a lady on his arm, that is eight or ten witnesses, agree that Nikolay had Dmitri on the ground, was lying on him beating him, while Dmitri hung on to his hair, beating him, too. They lay right across the way, blocking the thoroughfare. They were sworn at on all sides while they ‘like children’ (the very words of the witnesses) were falling over one another, squealing, fight- ing and laughing with the funniest faces, and, chasing one another like children, they ran into the street. Now take\\n0\\x18\\ncareful note. The bodies upstairs were warm, you under- stand, warm when they found them! If they, or Nikolay alone, had murdered them and broken open the boxes, or simply taken part in the robbery, allow me to ask you one question: do their state of mind, their squeals and giggles and childish scuffling at the gate fit in with axes, bloodshed, fiendish cunning, robbery? They’d just killed them, not five or ten minutes before, for the bodies were still warm, and at once, leaving the flat open, knowing that people would go there at once, flinging away their booty, they rolled about like children, laughing and attracting general attention. And there are a dozen witnesses to swear to that!’\\n‘Of course it is strange! It’s impossible, indeed, but …’ ‘No, brother, no buts. And if the ear-rings being found in Nikolay’s hands at the very day and hour of the murder constitutes an important piece of circumstantial evidence against him—although the explanation given by him ac- counts for it, and therefore it does not tell seriously against him—one must take into consideration the facts which prove him innocent, especially as they are facts that cannot be denied. And do you suppose, from the character of our legal system, that they will accept, or that they are in a posi- tion to accept, this fact— resting simply on a psychological impossibility—as irrefutable and conclusively breaking down the circumstantial evidence for the prosecution? No, they won’t accept it, they certainly won’t, because they found the jewel-case and the man tried to hang himself, ‘which he could not have done if he hadn’t felt guilty.’ That’s the point, that’s what excites me, you must understand!’\\n0\\x18\\n‘Oh, I see you are excited! Wait a bit. I forgot to ask you; what proof is there that the box came from the old wom- an?’\\n‘That’s been proved,’ said Razumihin with apparent re- luctance, frowning. ‘Koch recognised the jewel-case and gave the name of the owner, who proved conclusively that it was his.’\\n‘That’s bad. Now another point. Did anyone see Nikolay at the time that Koch and Pestryakov were going upstairs at first, and is there no evidence about that?’\\n‘Nobody did see him,’ Razumihin answered with vexa- tion. ‘That’s the worst of it. Even Koch and Pestryakov did not notice them on their way upstairs, though, indeed, their evidence could not have been worth much. They said they saw the flat was open, and that there must be work going on in it, but they took no special notice and could not remem- ber whether there actually were men at work in it.’\\n‘Hm! … So the only evidence for the defence is that they were beating one another and laughing. That constitutes a strong presumption, but … How do you explain the facts yourself?’\\n‘How do I explain them? What is there to explain? It’s clear. At any rate, the direction in which explanation is to be sought is clear, and the jewel-case points to it. The real murderer dropped those ear- rings. The murderer was up- stairs, locked in, when Koch and Pestryakov knocked at the door. Koch, like an ass, did not stay at the door; so the mur- derer popped out and ran down, too; for he had no other way of escape. He hid from Koch, Pestryakov and the por-\\n0\\x18\\nter in the flat when Nikolay and Dmitri had just run out of it. He stopped there while the porter and others were go- ing upstairs, waited till they were out of hearing, and then went calmly downstairs at the very minute when Dmitri and Nikolay ran out into the street and there was no one in the entry; possibly he was seen, but not noticed. There are lots of people going in and out. He must have dropped the ear-rings out of his pocket when he stood behind the door, and did not notice he dropped them, because he had other things to think of. The jewel-case is a conclusive proof that he did stand there…. That’s how I explain it.’\\n‘Too clever! No, my boy, you’re too clever. That beats ev-\\nerything.’\\n‘But, why, why?’ ‘Why, because everything fits too well … it’s too melo-\\ndramatic.’\\n‘A-ach!’ Razumihin was exclaiming, but at that moment the door opened and a personage came in who was a strang- er to all present.\\n0\\x18', metadata={'Header 1': 'Part II', 'Header 2': 'Chapter 4'})"
      ]
     },
     "execution_count": 136,
     "metadata": {},
     "output_type": "execute_result"
    }
   ],
   "source": [
    "splits[10]"
   ]
  },
  {
   "cell_type": "code",
   "execution_count": 137,
   "id": "6e16e40f",
   "metadata": {},
   "outputs": [
    {
     "data": {
      "text/plain": [
       "Document(page_content='Crime and Punishment\\nBy Fyodor Dostoevsky\\nDownload free eBooks of classic literature, books and novels at Planet eBook. Subscribe to our free eBooks blog and email newsletter.\\nTranslator’s Preface\\nA few words about Dostoevsky himself may help the Eng-\\nDostoevsky was the son of a doctor. His parents were very hard- working and deeply religious people, but so poor that they lived with their five children in only two rooms. The father and mother spent their evenings in reading aloud to their children, generally from books of a serious charac- ter.\\nlish reader to understand his work.\\nThough always sickly and delicate Dostoevsky came out third in the final examination of the Petersburg school of Engineering. There he had already begun his first work, ‘Poor Folk.’\\nThis story was published by the poet Nekrassov in his review and was received with acclamations. The shy, un- known youth found himself instantly something of a celebrity. A brilliant and successful career seemed to open before him, but those hopes were soon dashed. In 1849 he was arrested.\\nThough neither by temperament nor conviction a revolu- tionist, Dostoevsky was one of a little group of young men who met together to read Fourier and Proudhon. He was ac- cused of ‘taking part in conversations against the censorship, of reading a letter from Byelinsky to Gogol, and of knowing of the intention to set up a printing press.’ Under Nicholas I.  \\n(that ‘stern and just man,’ as Maurice Baring calls him) this was enough, and he was condemned to death. After eight months’ imprisonment he was with twenty-one others tak- en out to the Semyonovsky Square to be shot. Writing to his brother Mihail, Dostoevsky says: ‘They snapped words over our heads, and they made us put on the white shirts worn by persons condemned to death. Thereupon we were bound in threes to stakes, to suffer execution. Being the third in the row, I concluded I had only a few minutes of life before me. I thought of you and your dear ones and I contrived to kiss Plestcheiev and Dourov, who were next to me, and to bid them farewell. Suddenly the troops beat a tattoo, we were unbound, brought back upon the scaffold, and informed that his Majesty had spared us our lives.’ The sentence was commuted to hard labour.\\nOne of the prisoners, Grigoryev, went mad as soon as he\\nwas untied, and never regained his sanity.\\nThe intense suffering of this experience left a lasting stamp on Dostoevsky’s mind. Though his religious temper led him in the end to accept every suffering with resignation and to regard it as a blessing in his own case, he constantly recurs to the subject in his writings. He describes the awful agony of the condemned man and insists on the cruelty of inflicting such torture. Then followed four years of penal servitude, spent in the company of common criminals in Siberia, where he began the ‘Dead House,’ and some years of service in a disciplinary battalion.\\nHe had shown signs of some obscure nervous disease be- fore his arrest and this now developed into violent attacks of  \\nepilepsy, from which he suffered for the rest of his life. The fits occurred three or four times a year and were more fre- quent in periods of great strain. In 1859 he was allowed to return to Russia. He started a journal— ‘Vremya,’ which was forbidden by the Censorship through a misunderstanding. In 1864 he lost his first wife and his brother Mihail. He was in terrible poverty, yet he took upon himself the payment of his brother’s debts. He started another journal—‘The Ep- och,’ which within a few months was also prohibited. He was weighed down by debt, his brother’s family was depen- dent on him, he was forced to write at heart-breaking speed, and is said never to have corrected his work. The later years of his life were much softened by the tenderness and devo- tion of his second wife.\\nIn June 1880 he made his famous speech at the unveil- ing of the monument to Pushkin in Moscow and he was received with extraordinary demonstrations of love and honour.\\nA few months later Dostoevsky died. He was followed to the grave by a vast multitude of mourners, who ‘gave the hapless man the funeral of a king.’ He is still probably the most widely read writer in Russia.\\nIn the words of a Russian critic, who seeks to explain the feeling inspired by Dostoevsky: ‘He was one of ourselves, a man of our blood and our bone, but one who has suffered and has seen so much more deeply than we have his insight impresses us as wisdom … that wisdom of the heart which we seek that we may learn from it how to live. All his other gifts came to him from nature, this he won for himself and  \\nthrough it he became great.’', metadata={'Header 1': 'Translator’s Preface'})"
      ]
     },
     "execution_count": 137,
     "metadata": {},
     "output_type": "execute_result"
    }
   ],
   "source": [
    "splits[-1]"
   ]
  },
  {
   "cell_type": "code",
   "execution_count": 139,
   "id": "21f9d67d",
   "metadata": {},
   "outputs": [
    {
     "data": {
      "text/plain": [
       "18263"
      ]
     },
     "execution_count": 139,
     "metadata": {},
     "output_type": "execute_result"
    }
   ],
   "source": [
    "len(splits[0].dict()[\"page_content\"])"
   ]
  },
  {
   "cell_type": "code",
   "execution_count": 140,
   "id": "7a6ac2ef",
   "metadata": {},
   "outputs": [
    {
     "data": {
      "text/plain": [
       "{'Header 1': 'Part I', 'Header 2': 'Chapter 1'}"
      ]
     },
     "execution_count": 140,
     "metadata": {},
     "output_type": "execute_result"
    }
   ],
   "source": [
    "splits[0].dict()[\"metadata\"]"
   ]
  },
  {
   "cell_type": "markdown",
   "id": "9a12792d",
   "metadata": {},
   "source": [
    "# OpenAI API Setup"
   ]
  },
  {
   "cell_type": "code",
   "execution_count": 141,
   "id": "579d950a",
   "metadata": {},
   "outputs": [],
   "source": [
    "import configparser\n",
    "import openai\n",
    "\n",
    "# Create a ConfigParser object\n",
    "config = configparser.ConfigParser()\n",
    "\n",
    "# Read the config.ini file\n",
    "config.read('config.ini')\n",
    "\n",
    "my_openai_key = config['openai']['OPENAI_API_KEY']\n",
    "openai.api_key = my_openai_key\n",
    "os.environ['OPENAI_API_KEY'] = my_openai_key"
   ]
  },
  {
   "cell_type": "markdown",
   "id": "8ddc885d",
   "metadata": {},
   "source": [
    "# Prompt, LLM, Chain, Callback"
   ]
  },
  {
   "cell_type": "code",
   "execution_count": 32,
   "id": "21734c1c",
   "metadata": {},
   "outputs": [],
   "source": [
    "from langchain.chains.llm import LLMChain\n",
    "from langchain.prompts import PromptTemplate\n",
    "from langchain.chains.combine_documents.stuff import StuffDocumentsChain\n",
    "from langchain.callbacks import get_openai_callback\n",
    "from langchain.chat_models import ChatOpenAI\n",
    "\n",
    "\n",
    "# handler = StdOutCallbackHandler()\n",
    "\n",
    "\n",
    "# Define prompt\n",
    "prompt_template = \"\"\"Write a concise summary of the following:\n",
    "\"{text}\"\n",
    "CONCISE SUMMARY:\"\"\"\n",
    "prompt = PromptTemplate.from_template(prompt_template)\n",
    "\n",
    "# Define LLM chain\n",
    "llm = ChatOpenAI(temperature=0, model_name=\"gpt-3.5-turbo-16k\")\n",
    "llm_chain = LLMChain(llm=llm, prompt=prompt)\n",
    "\n",
    "# Define StuffDocumentsChain\n",
    "stuff_chain = StuffDocumentsChain(\n",
    "    llm_chain=llm_chain, document_variable_name=\"text\"\n",
    ")"
   ]
  },
  {
   "cell_type": "code",
   "execution_count": 33,
   "id": "a214b01d",
   "metadata": {},
   "outputs": [
    {
     "name": "stdout",
     "output_type": "stream",
     "text": [
      "Tokens Used: 1214\n",
      "\tPrompt Tokens: 1080\n",
      "\tCompletion Tokens: 134\n",
      "Successful Requests: 1\n",
      "Total Cost (USD): $0.0037760000000000003\n"
     ]
    }
   ],
   "source": [
    "with get_openai_callback() as cb:\n",
    "    stuff_chain.run([md_header_splits[0]])\n",
    "    print(cb)"
   ]
  },
  {
   "cell_type": "code",
   "execution_count": 44,
   "id": "92466f29",
   "metadata": {},
   "outputs": [
    {
     "name": "stdout",
     "output_type": "stream",
     "text": [
      "1\n",
      "Part I\n",
      "Chapter 1\n",
      "Tokens Used: 4501\n",
      "\tPrompt Tokens: 4361\n",
      "\tCompletion Tokens: 140\n",
      "Successful Requests: 1\n",
      "Total Cost (USD): $0.013642999999999999\n",
      "2\n",
      "Part I\n",
      "Chapter 2\n",
      "Tokens Used: 9907\n",
      "\tPrompt Tokens: 9773\n",
      "\tCompletion Tokens: 134\n",
      "Successful Requests: 1\n",
      "Total Cost (USD): $0.029855\n",
      "3\n",
      "Part I\n",
      "Chapter 3\n",
      "Tokens Used: 7265\n",
      "\tPrompt Tokens: 7170\n",
      "\tCompletion Tokens: 95\n",
      "Successful Requests: 1\n",
      "Total Cost (USD): $0.02189\n",
      "4\n",
      "Part I\n",
      "Chapter 4\n",
      "Tokens Used: 6915\n",
      "\tPrompt Tokens: 6808\n",
      "\tCompletion Tokens: 107\n",
      "Successful Requests: 1\n",
      "Total Cost (USD): $0.020852000000000002\n",
      "5\n",
      "Part I\n",
      "Chapter 5\n",
      "Tokens Used: 5696\n",
      "\tPrompt Tokens: 5587\n",
      "\tCompletion Tokens: 109\n",
      "Successful Requests: 1\n",
      "Total Cost (USD): $0.017196999999999997\n",
      "6\n",
      "Part I\n",
      "Chapter 6\n",
      "Tokens Used: 6665\n",
      "\tPrompt Tokens: 6426\n",
      "\tCompletion Tokens: 239\n",
      "Successful Requests: 1\n",
      "Total Cost (USD): $0.020234\n",
      "7\n",
      "Part I\n",
      "Chapter 7\n",
      "Tokens Used: 6373\n",
      "\tPrompt Tokens: 6248\n",
      "\tCompletion Tokens: 125\n",
      "Successful Requests: 1\n",
      "Total Cost (USD): $0.019244\n",
      "8\n",
      "Part II\n",
      "Chapter 1\n",
      "Tokens Used: 9391\n",
      "\tPrompt Tokens: 9174\n",
      "\tCompletion Tokens: 217\n",
      "Successful Requests: 1\n",
      "Total Cost (USD): $0.02839\n",
      "9\n",
      "Part II\n",
      "Chapter 2\n",
      "Tokens Used: 5717\n",
      "\tPrompt Tokens: 5591\n",
      "\tCompletion Tokens: 126\n",
      "Successful Requests: 1\n",
      "Total Cost (USD): $0.017277\n",
      "10\n",
      "Part II\n",
      "Chapter 3\n",
      "Tokens Used: 7691\n",
      "\tPrompt Tokens: 7604\n",
      "\tCompletion Tokens: 87\n",
      "Successful Requests: 1\n",
      "Total Cost (USD): $0.023160000000000004\n",
      "11\n",
      "Part II\n",
      "Chapter 4\n",
      "Tokens Used: 6009\n",
      "\tPrompt Tokens: 5771\n",
      "\tCompletion Tokens: 238\n",
      "Successful Requests: 1\n",
      "Total Cost (USD): $0.018265\n",
      "12\n",
      "Part II\n",
      "Chapter 5\n",
      "Tokens Used: 5950\n",
      "\tPrompt Tokens: 5871\n",
      "\tCompletion Tokens: 79\n",
      "Successful Requests: 1\n",
      "Total Cost (USD): $0.017929\n",
      "13\n",
      "Part II\n",
      "Chapter 6\n",
      "Tokens Used: 10700\n",
      "\tPrompt Tokens: 10483\n",
      "\tCompletion Tokens: 217\n",
      "Successful Requests: 1\n",
      "Total Cost (USD): $0.032317000000000005\n",
      "14\n",
      "Part II\n",
      "Chapter 7\n",
      "Tokens Used: 9956\n",
      "\tPrompt Tokens: 9701\n",
      "\tCompletion Tokens: 255\n",
      "Successful Requests: 1\n",
      "Total Cost (USD): $0.030123000000000004\n",
      "15\n",
      "Part III\n",
      "Chapter 1\n"
     ]
    },
    {
     "name": "stderr",
     "output_type": "stream",
     "text": [
      "Retrying langchain.chat_models.openai.ChatOpenAI.completion_with_retry.<locals>._completion_with_retry in 4.0 seconds as it raised APIConnectionError: Error communicating with OpenAI: HTTPSConnectionPool(host='api.openai.com', port=443): Max retries exceeded with url: /v1/chat/completions (Caused by NewConnectionError('<urllib3.connection.HTTPSConnection object at 0x000002016D335250>: Failed to establish a new connection: [Errno 11001] getaddrinfo failed')).\n",
      "Retrying langchain.chat_models.openai.ChatOpenAI.completion_with_retry.<locals>._completion_with_retry in 4.0 seconds as it raised APIConnectionError: Error communicating with OpenAI: HTTPSConnectionPool(host='api.openai.com', port=443): Max retries exceeded with url: /v1/chat/completions (Caused by NewConnectionError('<urllib3.connection.HTTPSConnection object at 0x000002016D337910>: Failed to establish a new connection: [Errno 11001] getaddrinfo failed')).\n",
      "Retrying langchain.chat_models.openai.ChatOpenAI.completion_with_retry.<locals>._completion_with_retry in 4.0 seconds as it raised APIConnectionError: Error communicating with OpenAI: HTTPSConnectionPool(host='api.openai.com', port=443): Max retries exceeded with url: /v1/chat/completions (Caused by NewConnectionError('<urllib3.connection.HTTPSConnection object at 0x000002016D2E7090>: Failed to establish a new connection: [Errno 11001] getaddrinfo failed')).\n"
     ]
    },
    {
     "name": "stdout",
     "output_type": "stream",
     "text": [
      "Tokens Used: 7579\n",
      "\tPrompt Tokens: 7391\n",
      "\tCompletion Tokens: 188\n",
      "Successful Requests: 1\n",
      "Total Cost (USD): $0.022925\n",
      "16\n",
      "Part III\n",
      "Chapter 2\n",
      "Tokens Used: 6436\n",
      "\tPrompt Tokens: 6312\n",
      "\tCompletion Tokens: 124\n",
      "Successful Requests: 1\n",
      "Total Cost (USD): $0.019432\n",
      "17\n",
      "Part III\n",
      "Chapter 3\n",
      "Tokens Used: 7438\n",
      "\tPrompt Tokens: 7218\n",
      "\tCompletion Tokens: 220\n",
      "Successful Requests: 1\n",
      "Total Cost (USD): $0.022534\n",
      "18\n",
      "Part III\n",
      "Chapter 4\n",
      "Tokens Used: 6417\n",
      "\tPrompt Tokens: 6190\n",
      "\tCompletion Tokens: 227\n",
      "Successful Requests: 1\n",
      "Total Cost (USD): $0.019478000000000002\n",
      "19\n",
      "Part III\n",
      "Chapter 5\n",
      "Tokens Used: 10032\n",
      "\tPrompt Tokens: 9901\n",
      "\tCompletion Tokens: 131\n",
      "Successful Requests: 1\n",
      "Total Cost (USD): $0.030227\n",
      "20\n",
      "Part III\n",
      "Chapter 6\n",
      "Tokens Used: 5870\n",
      "\tPrompt Tokens: 5766\n",
      "\tCompletion Tokens: 104\n",
      "Successful Requests: 1\n",
      "Total Cost (USD): $0.017714\n",
      "21\n",
      "Part IV\n",
      "Chapter 1\n",
      "Tokens Used: 7148\n",
      "\tPrompt Tokens: 7001\n",
      "\tCompletion Tokens: 147\n",
      "Successful Requests: 1\n",
      "Total Cost (USD): $0.021591\n",
      "22\n",
      "Part IV\n",
      "Chapter 2\n",
      "Tokens Used: 6664\n",
      "\tPrompt Tokens: 6561\n",
      "\tCompletion Tokens: 103\n",
      "Successful Requests: 1\n",
      "Total Cost (USD): $0.020095\n",
      "23\n",
      "Part IV\n",
      "Chapter 3\n",
      "Tokens Used: 4370\n",
      "\tPrompt Tokens: 4214\n",
      "\tCompletion Tokens: 156\n",
      "Successful Requests: 1\n",
      "Total Cost (USD): $0.013266000000000002\n",
      "24\n",
      "Part IV\n",
      "Chapter 4\n",
      "Tokens Used: 8533\n",
      "\tPrompt Tokens: 8429\n",
      "\tCompletion Tokens: 104\n",
      "Successful Requests: 1\n",
      "Total Cost (USD): $0.025703\n",
      "25\n",
      "Part IV\n",
      "Chapter 5\n",
      "Tokens Used: 9719\n",
      "\tPrompt Tokens: 9627\n",
      "\tCompletion Tokens: 92\n",
      "Successful Requests: 1\n",
      "Total Cost (USD): $0.029249000000000004\n",
      "26\n",
      "Part IV\n",
      "Chapter 6\n",
      "Tokens Used: 4059\n",
      "\tPrompt Tokens: 3954\n",
      "\tCompletion Tokens: 105\n",
      "Successful Requests: 1\n",
      "Total Cost (USD): $0.012282000000000001\n",
      "27\n",
      "Part V\n",
      "Chapter 1\n",
      "Tokens Used: 8778\n",
      "\tPrompt Tokens: 8518\n",
      "\tCompletion Tokens: 260\n",
      "Successful Requests: 1\n",
      "Total Cost (USD): $0.026594000000000003\n",
      "28\n",
      "Part V\n",
      "Chapter 2\n",
      "Tokens Used: 6963\n",
      "\tPrompt Tokens: 6851\n",
      "\tCompletion Tokens: 112\n",
      "Successful Requests: 1\n",
      "Total Cost (USD): $0.021001000000000002\n",
      "29\n",
      "Part V\n",
      "Chapter 3\n",
      "Tokens Used: 8000\n",
      "\tPrompt Tokens: 7841\n",
      "\tCompletion Tokens: 159\n",
      "Successful Requests: 1\n",
      "Total Cost (USD): $0.024159000000000003\n",
      "30\n",
      "Part V\n",
      "Chapter 4\n",
      "Tokens Used: 9060\n",
      "\tPrompt Tokens: 8851\n",
      "\tCompletion Tokens: 209\n",
      "Successful Requests: 1\n",
      "Total Cost (USD): $0.027389000000000004\n",
      "31\n",
      "Part V\n",
      "Chapter 5\n",
      "Tokens Used: 7453\n",
      "\tPrompt Tokens: 7319\n",
      "\tCompletion Tokens: 134\n",
      "Successful Requests: 1\n",
      "Total Cost (USD): $0.022493\n",
      "32\n",
      "Part VI\n",
      "Chapter 1\n",
      "Tokens Used: 5399\n",
      "\tPrompt Tokens: 5267\n",
      "\tCompletion Tokens: 132\n",
      "Successful Requests: 1\n",
      "Total Cost (USD): $0.016329000000000003\n",
      "33\n",
      "Part VI\n",
      "Chapter 2\n",
      "Tokens Used: 7650\n",
      "\tPrompt Tokens: 7532\n",
      "\tCompletion Tokens: 118\n",
      "Successful Requests: 1\n",
      "Total Cost (USD): $0.023068\n",
      "34\n",
      "Part VI\n",
      "Chapter 3\n",
      "Tokens Used: 5645\n",
      "\tPrompt Tokens: 5296\n",
      "\tCompletion Tokens: 349\n",
      "Successful Requests: 1\n",
      "Total Cost (USD): $0.017284000000000004\n",
      "35\n",
      "Part VI\n",
      "Chapter 4\n",
      "Tokens Used: 6018\n",
      "\tPrompt Tokens: 5923\n",
      "\tCompletion Tokens: 95\n",
      "Successful Requests: 1\n",
      "Total Cost (USD): $0.018149\n",
      "36\n",
      "Part VI\n",
      "Chapter 5\n",
      "Tokens Used: 7841\n",
      "\tPrompt Tokens: 7666\n",
      "\tCompletion Tokens: 175\n",
      "Successful Requests: 1\n",
      "Total Cost (USD): $0.023698\n",
      "37\n",
      "Part VI\n",
      "Chapter 6\n",
      "Tokens Used: 7357\n",
      "\tPrompt Tokens: 7246\n",
      "\tCompletion Tokens: 111\n",
      "Successful Requests: 1\n",
      "Total Cost (USD): $0.022182\n",
      "38\n",
      "Part VI\n",
      "Chapter 7\n",
      "Tokens Used: 5042\n",
      "\tPrompt Tokens: 4934\n",
      "\tCompletion Tokens: 108\n",
      "Successful Requests: 1\n",
      "Total Cost (USD): $0.015234000000000001\n",
      "39\n",
      "Part VI\n",
      "Chapter 8\n",
      "Tokens Used: 13512\n",
      "\tPrompt Tokens: 13375\n",
      "\tCompletion Tokens: 137\n",
      "Successful Requests: 1\n",
      "Total Cost (USD): $0.040673\n",
      "40\n",
      "Translator’s Preface\n"
     ]
    },
    {
     "ename": "KeyError",
     "evalue": "'Header 2'",
     "output_type": "error",
     "traceback": [
      "\u001b[1;31m---------------------------------------------------------------------------\u001b[0m",
      "\u001b[1;31mKeyError\u001b[0m                                  Traceback (most recent call last)",
      "Cell \u001b[1;32mIn[44], line 15\u001b[0m\n\u001b[0;32m     13\u001b[0m \u001b[38;5;28mprint\u001b[39m(count)\n\u001b[0;32m     14\u001b[0m \u001b[38;5;28mprint\u001b[39m(split_doc\u001b[38;5;241m.\u001b[39mdict()[\u001b[38;5;124m\"\u001b[39m\u001b[38;5;124mmetadata\u001b[39m\u001b[38;5;124m\"\u001b[39m][\u001b[38;5;124m'\u001b[39m\u001b[38;5;124mHeader 1\u001b[39m\u001b[38;5;124m'\u001b[39m])\n\u001b[1;32m---> 15\u001b[0m \u001b[38;5;28mprint\u001b[39m(split_doc\u001b[38;5;241m.\u001b[39mdict()[\u001b[38;5;124m\"\u001b[39m\u001b[38;5;124mmetadata\u001b[39m\u001b[38;5;124m\"\u001b[39m][\u001b[38;5;124m'\u001b[39m\u001b[38;5;124mHeader 2\u001b[39m\u001b[38;5;124m'\u001b[39m])\n\u001b[0;32m     16\u001b[0m partNo \u001b[38;5;241m=\u001b[39m split_doc\u001b[38;5;241m.\u001b[39mdict()[\u001b[38;5;124m\"\u001b[39m\u001b[38;5;124mmetadata\u001b[39m\u001b[38;5;124m\"\u001b[39m][\u001b[38;5;124m'\u001b[39m\u001b[38;5;124mHeader 1\u001b[39m\u001b[38;5;124m'\u001b[39m]\n\u001b[0;32m     17\u001b[0m chapterNo \u001b[38;5;241m=\u001b[39m split_doc\u001b[38;5;241m.\u001b[39mdict()[\u001b[38;5;124m\"\u001b[39m\u001b[38;5;124mmetadata\u001b[39m\u001b[38;5;124m\"\u001b[39m][\u001b[38;5;124m'\u001b[39m\u001b[38;5;124mHeader 2\u001b[39m\u001b[38;5;124m'\u001b[39m]\n",
      "\u001b[1;31mKeyError\u001b[0m: 'Header 2'"
     ]
    }
   ],
   "source": [
    "summarize_document = {}\n",
    "\n",
    "def insert_summary(part_no, chapter_no, summary):\n",
    "    if part_no not in summarize_document:\n",
    "        summarize_document[part_no] = {}\n",
    "    summarize_document[part_no][chapter_no] = summary\n",
    "\n",
    "count = 1\n",
    "cost = 0\n",
    "\n",
    "for split_doc in splits:\n",
    "    with get_openai_callback() as cb:\n",
    "        print(count)\n",
    "        print(split_doc.dict()[\"metadata\"]['Header 1'])\n",
    "        print(split_doc.dict()[\"metadata\"]['Header 2'])\n",
    "        partNo = split_doc.dict()[\"metadata\"]['Header 1']\n",
    "        chapterNo = split_doc.dict()[\"metadata\"]['Header 2']\n",
    "        summary = stuff_chain.run([split_doc])\n",
    "        print(cb)\n",
    "        cost += cb.total_cost\n",
    "    \n",
    "        insert_summary(partNo, chapterNo, summary)\n",
    "    \n",
    "    count += 1\n",
    "#     break"
   ]
  },
  {
   "cell_type": "code",
   "execution_count": 48,
   "id": "3eabeb26",
   "metadata": {},
   "outputs": [
    {
     "name": "stdout",
     "output_type": "stream",
     "text": [
      "Translator’s Preface\n",
      "Tokens Used: 1214\n",
      "\tPrompt Tokens: 1080\n",
      "\tCompletion Tokens: 134\n",
      "Successful Requests: 1\n",
      "Total Cost (USD): $0.0037760000000000003\n"
     ]
    }
   ],
   "source": [
    "with get_openai_callback() as cb:\n",
    "        print(splits[-1].dict()[\"metadata\"]['Header 1'])\n",
    "        partNo = splits[-1].dict()[\"metadata\"]['Header 1']\n",
    "        summary = stuff_chain.run([splits[-1]])\n",
    "        print(cb)\n",
    "        cost += cb.total_cost\n",
    "    \n",
    "        insert_summary(partNo, \" \", summary)"
   ]
  },
  {
   "cell_type": "code",
   "execution_count": 49,
   "id": "de732ba8",
   "metadata": {},
   "outputs": [
    {
     "name": "stdout",
     "output_type": "stream",
     "text": [
      "Total Cost (USD): $0.870677\n"
     ]
    }
   ],
   "source": [
    "print(f\"Total Cost (USD): ${cost}\")"
   ]
  },
  {
   "cell_type": "markdown",
   "id": "eb248785",
   "metadata": {},
   "source": [
    "# Summarized Document (Dictionary)"
   ]
  },
  {
   "cell_type": "code",
   "execution_count": 50,
   "id": "62d4f306",
   "metadata": {},
   "outputs": [
    {
     "data": {
      "text/plain": [
       "{'Part I': {'Chapter 1': 'On a hot evening in July, a young man leaves his garret and walks towards a bridge, avoiding his landlady. He is in debt to her and afraid of meeting her. The young man is in an irritable and isolated state, and fears interacting with anyone. He is absorbed in himself and has given up on practical matters. He is going to attempt something, but is unsure and frightened. The heat and unpleasant surroundings exacerbate his already strained nerves. He enters a tavern and drinks beer, feeling a temporary relief from his worries. However, he senses that his newfound cheerfulness is not normal. The tavern is mostly empty, with a few drunk men and a suspicious-looking man.',\n",
       "  'Chapter 2': \"Raskolnikov, who usually avoids crowds, suddenly feels a desire to be around people. He goes to a tavern and notices a retired clerk who seems interested in talking to him. The clerk, Marmeladov, tells Raskolnikov about his struggles with poverty and his wife's mistreatment. Marmeladov reveals that he recently stole money from his wife and spent it on alcohol. Raskolnikov leaves the tavern and goes to Marmeladov's home, where he witnesses the chaotic and impoverished living conditions. He leaves some money for Marmeladov's family and reflects on the nature of humanity.\",\n",
       "  'Chapter 3': 'The protagonist wakes up feeling sick and irritable in his small, run-down room. He is avoiding contact with others and neglecting his basic needs. His landlady is upset with him for not paying rent and threatens to involve the police. He receives a letter from his mother, informing him that his sister is engaged to a wealthy man and they are planning to move to Petersburg. The protagonist becomes angry and bitter, and goes for a walk, muttering to himself.',\n",
       "  'Chapter 4': \"The protagonist, Raskolnikov, receives a letter from his mother informing him of his sister's engagement to a man named Mr. Luzhin. Raskolnikov is angered by the news and believes that his sister is sacrificing herself for the sake of their family. He encounters a drunk girl on the street and tries to help her, but is interrupted by a man who seems interested in her. Raskolnikov eventually decides to go visit his friend Razumihin, whom he hasn't seen in months.\",\n",
       "  'Chapter 5': \"Raskolnikov contemplates going to Razumihin for help, but questions the usefulness of it. He has a strange thought about going to Razumihin's the next day after something happens. He then has a vivid dream about witnessing the brutal beating of a horse. He wakes up feeling relieved and free from a burden. He crosses the Hay Market and overhears a conversation about an opportunity to carry out his plan to kill an old woman. He realizes that this is the perfect opportunity and feels that his fate is sealed.\",\n",
       "  'Chapter 6': \"Raskolnikov discovers that Lizaveta was invited to the huckster's house because they were looking for a dealer to buy their household goods. Raskolnikov becomes superstitious and believes that there are strange coincidences surrounding his encounters with the huckster and Lizaveta. He overhears a conversation about the pawnbroker Alyona Ivanovna and learns more about her and Lizaveta. Raskolnikov becomes fixated on the idea of committing a crime and justifying it by using the stolen money for the benefit of others. He plans to steal an axe from the kitchen and carry out his plan. However, when he arrives at the house, he realizes that Nastasya, the landlady, is in the kitchen and he cannot access the axe. He becomes frustrated but then notices a wagon of hay that blocks him from view as he enters the gate. He successfully enters the building and begins ascending the stairs to the old woman's apartment. He rings the bell but there is no answer. He hears someone inside and realizes that the old woman is suspicious and listening at the door. He rings the bell again and waits patiently.\",\n",
       "  'Chapter 7': 'In this passage, Raskolnikov enters the apartment of the old woman he plans to rob and murder. He tries to convince her to let him in, but she is suspicious. Eventually, he forces his way in and kills her with an axe. He then searches for valuables and finds a purse. As he is leaving, he hears someone approaching and hides in an empty flat. He narrowly avoids being caught by the person who enters the apartment. Raskolnikov then makes his way home, feeling exhausted and disoriented. He manages to return the axe to its hiding place and collapses on his sofa.'},\n",
       " 'Part II': {'Chapter 1': \"The protagonist, Raskolnikov, wakes up after a long period of unconsciousness and realizes that it is already late into the night. He hears fearful cries from the street and realizes that it is past two o'clock. He suddenly remembers everything that happened the previous night and becomes filled with fear and despair. He notices some drops of blood on his trousers and tries to hide them. He also remembers that he still has the stolen items in his pockets and quickly hides them as well. He is then summoned to the police office and goes there, feeling a mix of fear and relief. At the police office, he witnesses a scandal involving a woman and an officer. He then has a sudden realization that he can no longer appeal to anyone for help and feels a deep sense of loneliness. He signs a declaration stating that he cannot pay his debts and leaves the office. He faints and when he regains consciousness, he is questioned by the police officers. He is then allowed to leave and realizes that a search will be conducted at his home. He rushes home, feeling terrified.\",\n",
       "  'Chapter 2': 'In this passage, Raskolnikov is in a state of panic and paranoia after committing a crime. He searches his room for any evidence that may have been left behind and finds several items, which he hides in his pockets. He then goes out to dispose of the evidence, but struggles to find a suitable place. Eventually, he throws the items into a hidden hollow under a stone. He returns home and falls into a deep sleep, only to be woken up by the sound of his landlady being beaten. However, it is revealed that this was all in his imagination and he is suffering from hallucinations.',\n",
       "  'Chapter 3': \"The protagonist is recovering from an illness and experiencing delirium. He remembers people coming and going from his room, threatening and mocking him. He is confused about the passage of time and struggles to remember certain things. Eventually, he regains consciousness and is visited by a friend who brings him new clothes. The friend also mentions that the protagonist's mother sent him money. The chapter ends with the entrance of a tall, stout man.\",\n",
       "  'Chapter 4': \"Zossimov is described as a tall, fat man with a clean-shaven face and fashionable attire. He is slow and nonchalant in manner, but his self-importance is apparent. He is considered clever at his work, but his acquaintances find him tedious. Razumihin informs Zossimov that Raskolnikov has come to himself and Zossimov examines him. Raskolnikov is still depressed and has a headache. Zossimov advises against giving him certain foods and medicine. Razumihin plans to take Raskolnikov for a walk the next day. They discuss a house-painter who is accused of murder and the discovery of earrings in his possession. Zossimov questions the evidence and Razumihin defends the painter's innocence. They debate the details of the case and Zossimov questions the validity of the evidence. Raskolnikov suddenly becomes agitated and asks about the earrings being found behind the door. The conversation continues, with Razumihin defending the painter's innocence and Zossimov questioning the evidence. The chapter ends with the entrance of a stranger.\",\n",
       "  'Chapter 5': \"A gentleman arrives at Raskolnikov's apartment and is surprised by the poor conditions. He introduces himself as Pyotr Petrovitch Luzhin and mentions that he is engaged to Raskolnikov's sister. Raskolnikov shows little interest and insults Luzhin. Luzhin leaves in anger. Raskolnikov becomes agitated and asks to be left alone.\",\n",
       "  'Chapter 6': \"After leaving his apartment, the protagonist, Raskolnikov, becomes calm and focused. He dresses in new clothes, takes money from his table, and leaves his building. He encounters a street musician and gives money to a young girl. He then walks to a crowded area and contemplates his plan to end everything. He goes to a restaurant, reads the newspaper, and runs into an acquaintance, Zametov. They have a strange conversation about crimes and Raskolnikov's mental state. Raskolnikov continues walking and witnesses a woman attempting to drown herself. She is saved, and Raskolnikov continues on his way. He encounters his friend Razumihin, who invites him to a party, but Raskolnikov declines. He walks to his former apartment building and enters the empty flat. He then goes to the police station, but is thrown out by the porter. Raskolnikov contemplates his next move and sees a crowd gathered in the distance. He walks towards it, ready to face whatever comes next.\",\n",
       "  'Chapter 7': \"In this passage, an accident occurs where a man is run over by a carriage. Raskolnikov, the protagonist, pushes through the crowd to see what happened and realizes that the injured man is Marmeladov, a government clerk. Raskolnikov offers to pay for a doctor and insists that Marmeladov be taken to his lodging. The police agree and Raskolnikov slips them some money. They take Marmeladov to his home, where his wife and children are waiting. Katerina Ivanovna, Marmeladov's wife, is distraught and worried about how they will afford to bury him. Raskolnikov gives her money and promises to come back the next day. He then goes to see his friend Razumihin, who is hosting a gathering. Raskolnikov tells Razumihin that he won their bet and that he is feeling better. However, he suddenly feels weak and sad and rushes home. When he arrives, he is surprised to find his mother and sister waiting for him. Overwhelmed, he faints and Razumihin helps him onto the sofa. The family is grateful to Razumihin for his help.\"},\n",
       " 'Part III': {'Chapter 1': \"Raskolnikov's mother and sister visit him in his apartment, where he is in a state of emotional distress. Raskolnikov asks his mother and sister to leave and stay with his friend Razumihin. He also tells them to refuse a marriage proposal from a man named Luzhin. Raskolnikov's mother and sister are concerned for his well-being and leave with Razumihin. Later, Zossimov, a doctor, visits Raskolnikov's apartment and reassures his family that he is recovering. Razumihin and Zossimov have a conversation outside, where Razumihin reveals his infatuation with Avdotya Romanovna, Raskolnikov's sister. He asks Zossimov to spend time with her and keep her company. Zossimov is amused by Razumihin's behavior and agrees to help.\",\n",
       "  'Chapter 2': \"Razumihin wakes up troubled and serious, realizing that he had a novel experience the previous day. He feels ashamed of his drunken behavior and criticizes himself for his jealousy towards Avdotya Romanovna's fiancé. He is concerned about Raskolnikov's mental state and the upcoming meeting with Pyotr Petrovitch. Pulcheria Alexandrovna shares a letter from Pyotr Petrovitch, expressing her worries about Raskolnikov's reaction. They decide to go to Raskolnikov's and seek Razumihin's advice on how to handle the situation.\",\n",
       "  'Chapter 3': \"Raskolnikov is visited by Zossimov and his family, who are relieved to see that he is feeling better. However, Raskolnikov still appears pale and somber, and there is a sense of tension in the room. Zossimov advises Raskolnikov to avoid certain triggers that may worsen his condition, and Raskolnikov agrees to return to the university. The conversation then turns to Raskolnikov's sister, Dounia, who is planning to marry a man named Luzhin. Raskolnikov expresses his disapproval and warns Dounia that he will no longer consider her his sister if she goes through with the marriage. Dounia defends her decision, and Raskolnikov reluctantly accepts it. The family then discusses a letter from Luzhin, which Raskolnikov criticizes for its uneducated style. He also points out a slanderous remark about him in the letter. Despite this, Raskolnikov agrees to attend a meeting with Luzhin later that evening.\",\n",
       "  'Chapter 4': \"In this passage, Raskolnikov is surprised when a young girl named Sofya Semyonovna Marmeladov enters the room. He had seen her the day before in different circumstances and did not recognize her at first. She is timid and dressed modestly. Raskolnikov feels sorry for her and invites her to sit down. Razumihin, Raskolnikov's friend, gives up his seat for her. Sofya Semyonovna explains that she has come on behalf of Katerina Ivanovna to invite Raskolnikov to a service and funeral lunch. Raskolnikov agrees to attend. After Sofya Semyonovna leaves, Raskolnikov and Razumihin discuss going to see Porfiry Petrovitch, a detective involved in a murder case. Raskolnikov is worried that Porfiry knows he was at the old woman's flat and asked about the blood. They enter Porfiry's flat laughing, but Razumihin warns Raskolnikov to be careful.\",\n",
       "  'Chapter 5': 'Raskolnikov enters a room with Razumihin and encounters Porfiry Petrovitch. Raskolnikov tries to control his laughter while Razumihin appears embarrassed and angry. Porfiry questions Raskolnikov about a recent article he wrote, discussing the idea that extraordinary people have the right to commit crimes. Raskolnikov defends his argument and asserts that great men often suffer for their actions. Porfiry asks Raskolnikov about a specific incident on the day of the murder, but Raskolnikov denies seeing anything. They leave the room, feeling gloomy and tense.',\n",
       "  'Chapter 6': \"Razumihin and Raskolnikov are discussing the recent events and suspicions surrounding Raskolnikov. Razumihin is perplexed by Raskolnikov's arguments and is in disbelief. Raskolnikov believes that the police have no real evidence against him and are trying to intimidate him. He also reflects on his actions and feelings of guilt. Later, Raskolnikov has a disturbing dream and is then confronted by a stranger named Svidrigaïlov.\"},\n",
       " 'Part IV': {'Chapter 1': \"Raskolnikov is visited by Svidrigaïlov, who claims to want to make his acquaintance and seek his assistance in winning over Raskolnikov's sister, Avdotya Romanovna. Raskolnikov is suspicious of Svidrigaïlov's intentions and refuses to help him. Svidrigaïlov talks about his past actions and his belief in ghosts. He also offers Raskolnikov money and reveals that Avdotya Romanovna is set to receive an inheritance. Raskolnikov is angered by Svidrigaïlov's audacity and refuses his offer. Svidrigaïlov leaves, but hints at a possible future encounter.\",\n",
       "  'Chapter 2': \"Two young men hurry to Bakaleyev's to arrive before Luzhin. They discuss Svidrigaïlov, a landowner who had insulted the sister of one of the men. Svidrigaïlov recently came to town and they fear he may harm the sister. They also mention Marfa Petrovna, Svidrigaïlov's wife, who recently died. The men then meet Luzhin, who had insulted the brother earlier. They argue and Luzhin eventually leaves.\",\n",
       "  'Chapter 3': 'In this passage, it is revealed that Pyotr Petrovitch, who had been overbearing and controlling towards Dounia and her mother, did not expect them to escape his control. He had a high opinion of himself and his intelligence, and saw his decision to marry Dounia as heroic. However, he is now feeling undeservedly injured and unrecognised. Dounia and her mother are relieved to be free from him, and Razumihin proposes a business venture to support them. Raskolnikov, however, is distant and decides to separate himself from his family. Razumihin tries to convince him to stay, but something passes between them that causes Razumihin to pale and Raskolnikov to leave abruptly.',\n",
       "  'Chapter 4': \"Raskolnikov goes to Sonia's house and they have a conversation about her difficult situation. Raskolnikov suggests that they go together and abandon their families. Sonia reads a passage from the Bible about the resurrection of Lazarus. Raskolnikov reveals that he knows who killed Lizaveta and promises to tell Sonia tomorrow. After he leaves, Sonia is left feeling feverish and delirious. Meanwhile, Svidrigaïlov listens to their conversation from the empty room next door.\",\n",
       "  'Chapter 5': 'Raskolnikov goes to the department of the investigation of criminal causes to meet with Porfiry Petrovitch. He is surprised at being kept waiting and begins to doubt whether Porfiry knows anything about his crime. When he finally meets with Porfiry, they engage in a tense conversation where Raskolnikov accuses Porfiry of lying and trying to manipulate him. The conversation ends abruptly when they hear a noise outside the door.',\n",
       "  'Chapter 6': \"In this passage, Raskolnikov is visited by a man who confesses to having wronged him and reveals that he was present during Raskolnikov's conversation with Porfiry. The man explains that he informed Porfiry about Raskolnikov's visit to the police station and witnessed Porfiry's reaction. Raskolnikov realizes that Porfiry has no concrete evidence against him and feels more confident. He leaves with a malicious smile, ready to fight for his innocence.\"},\n",
       " 'Part V': {'Chapter 1': 'Pyotr Petrovitch is forced to accept the reality of his failed relationship with Dounia and her mother. He is angry and frustrated, and his day is filled with unpleasantness, including issues with his legal case and the redecoration of his flat. He contemplates his mistakes and regrets not giving money to Dounia and her mother. He also considers the possibility of starting a new relationship and tries to convince himself that he can find someone better. Pyotr Petrovitch is irritated by his friend Andrey Semyonovitch Lebeziatnikov and suspects that he is being deceived. He also plans to attend a funeral dinner and is interested in meeting Raskolnikov, who will be there. Lebeziatnikov, who is interested in progressive ideas, discusses his beliefs with Pyotr Petrovitch, who finds them foolish. Pyotr Petrovitch then has a conversation with Sonia, offering her money and suggesting that a subscription be raised for her family. He warns her not to give the money to Katerina Ivanovna, as she will spend it on unnecessary things. Lebeziatnikov praises Pyotr Petrovitch for his actions, but Pyotr Petrovitch is preoccupied and not fully engaged in the conversation.',\n",
       "  'Chapter 2': \"Katerina Ivanovna hosts a dinner party to honor her deceased husband, but it is chaotic and filled with tension. She spends a large portion of the money given for her husband's funeral on the dinner, possibly to prove her superiority to the other lodgers. Katerina Ivanovna is proud and determined, but also mentally unstable. The guests include a mix of people, some of whom are disrespectful and disruptive. Katerina Ivanovna tries to maintain her dignity and impress her guests, but the dinner quickly spirals out of control.\",\n",
       "  'Chapter 3': \"In this passage, Katerina Ivanovna accuses Pyotr Petrovitch of mistreating her and demands protection. Pyotr Petrovitch denies the accusations and instead focuses on his own affairs. He then accuses Sonia of stealing money from him, but she denies it. Lebeziatnikov supports Sonia's innocence and accuses Pyotr Petrovitch of planting the money on her. Raskolnikov steps forward and explains that Pyotr Petrovitch had a motive to frame Sonia in order to separate him from his family. The crowd turns against Pyotr Petrovitch, who eventually leaves. Katerina Ivanovna is thrown out of her lodging and runs into the street in search of justice. Raskolnikov decides to go to Sonia's lodgings.\",\n",
       "  'Chapter 4': 'Raskolnikov, burdened by guilt and anguish, finds relief in defending Sonia against Luzhin. However, as he prepares to tell Sonia about killing Lizaveta, he becomes overwhelmed with fear and impotence. He hesitates at her door, questioning whether he should confess. When he finally enters, Sonia expresses her gratitude for his support. Raskolnikov confesses his crime to her, but she struggles to understand his motives. He contemplates his actions and realizes that he wanted to prove his superiority and gain power. Sonia urges him to confess and repent, but he resists, believing he can escape punishment. He informs Sonia that the police are after him and assures her that he will find a way to protect his family. They sit together, both feeling the weight of their love for each other. Raskolnikov tells Sonia not to visit him in prison, and she gives him a cross to wear. Just as they are about to discuss further, Lebeziatnikov knocks on the door.',\n",
       "  'Chapter 5': \"Lebeziatnikov informs Raskolnikov that Katerina Ivanovna has gone mad and is mistreating her children. Sonia rushes out to help, followed by Raskolnikov and Lebeziatnikov. They find Katerina Ivanovna in the street, singing and dancing with the children. She is eventually taken back to Sonia's room, where she dies. Svidrigaïlov offers to take care of the children and provide for them financially. He reveals that he has been living next door and has been observing Raskolnikov. Raskolnikov is shocked and disturbed by this revelation.\"},\n",
       " 'Part VI': {'Chapter 1': 'Raskolnikov is experiencing a strange period of fog and solitude, during which he believes his mind is clouded and he has made mistakes. He is plagued by uneasiness and panic, but also moments of apathy. He is particularly worried about Svidrigaïlov and feels the need to come to an understanding with him. Raskolnikov learns from Razumihin that his mother is ill and that Dounia received a disturbing letter. Razumihin also informs him that the murderer of the old woman has been found. Raskolnikov realizes that Porfiry suspects him and decides to confront him.',\n",
       "  'Chapter 2': 'Porfiry Petrovitch, a police investigator, visits Raskolnikov and tries to convince him to confess to the murders he committed. Porfiry believes that Raskolnikov is the murderer and offers him a chance to lessen his sentence by confessing. Raskolnikov initially refuses, but eventually considers the possibility. Porfiry warns Raskolnikov not to try to escape or harm himself, and asks him to leave a note if he decides to do so. After Porfiry leaves, Raskolnikov contemplates his options.',\n",
       "  'Chapter 3': \"The protagonist, Raskolnikov, hurries to meet Svidrigaïlov, a man who has some hidden power over him. Raskolnikov is unsure of what he hopes to gain from Svidrigaïlov, but feels compelled to see him. On his way, he wonders if Svidrigaïlov has been to see Porfiry, a police investigator. Raskolnikov is unsure, but believes that Svidrigaïlov has not been to see Porfiry yet. He contemplates whether it is worth it to try to prevent Svidrigaïlov from going to see Porfiry and whether it is worth investigating him further. Raskolnikov is tired and anxious about his immediate future, but is more concerned about the possibility of Svidrigaïlov using his secret against his sister, Dounia. Raskolnikov arrives at a tavern and finds Svidrigaïlov there. They engage in conversation, with Svidrigaïlov revealing that he is a gambler and has a passion for women. Raskolnikov confronts Svidrigaïlov about his intentions towards Dounia and warns him that he will kill him if he tries to harm her. Svidrigaïlov admits that he is afraid of death and dislikes talking about it. They discuss their different perspectives on vice and aesthetics. Raskolnikov becomes uncomfortable and wants to leave, but Svidrigaïlov asks him to stay and tells him a story about a woman who tried to save him, revealing that the woman is Raskolnikov's sister, Avdotya Romanovna.\",\n",
       "  'Chapter 4': \"In this passage, Svidrigaïlov reveals to Raskolnikov the details of his marriage to Marfa Petrovna, including their agreement to allow him to have affairs with other women. He also confesses his attraction to Raskolnikov's sister, Avdotya Romanovna, and his plans to marry another young girl. Raskolnikov becomes suspicious of Svidrigaïlov's intentions and decides to follow him.\",\n",
       "  'Chapter 5': \"In this passage, Raskolnikov confronts Svidrigaïlov about his intentions towards his sister and accuses him of pursuing her. Raskolnikov threatens to call the police, but Svidrigaïlov dismisses his concerns and tries to befriend him. Raskolnikov remains suspicious and decides to follow Svidrigaïlov to his lodgings. Meanwhile, Dounia, Raskolnikov's sister, meets with Svidrigaïlov and he confesses to her that Raskolnikov is a murderer. Dounia is in disbelief and pulls out a revolver, threatening to shoot Svidrigaïlov. However, she ultimately decides not to and flees from the room. Svidrigaïlov is left in despair and contemplates his actions before leaving the room.\",\n",
       "  'Chapter 6': 'Svidrigaïlov spends the evening going to various low places and treating people to drinks. He ends up in a pleasure garden where a fight breaks out among some clerks. He leaves and walks home in the rain. He then goes to see Sonia, giving her money and making arrangements for her and her family. Later, he has a disturbing dream and wakes up feeling unsettled. He leaves his hotel and encounters a man named Achilles. Svidrigaïlov tells Achilles he is going to America and then shoots himself in the head.',\n",
       "  'Chapter 7': 'Raskolnikov, in a state of exhaustion and distress, visits his mother and confesses his love for her. He then meets with his sister, Dounia, who is horrified to learn that he has committed a crime. Raskolnikov defends his actions, believing that he has done a service to society. He decides to turn himself in and contemplates the consequences of his actions. Despite his inner turmoil, he pushes away Dounia and walks away, feeling a mix of anger and self-hatred.',\n",
       "  'Chapter 8': \"In this passage, Raskolnikov confesses to the murder of the pawnbroker and her sister and is sentenced to eight years of penal servitude. He reflects on his crime and his feelings of shame and isolation in prison. Meanwhile, Sonia, who has been visiting him, falls ill but assures him she is getting better. Raskolnikov dreams of a plague that destroys humanity except for a chosen few. He is released from prison and reunites with Sonia, and they both feel a sense of renewal and hope for the future. The passage ends by hinting at the possibility of a new story, one that explores Raskolnikov's transformation and redemption.\"},\n",
       " 'Translator’s Preface': {' ': 'Fyodor Dostoevsky was a Russian author known for his novel \"Crime and Punishment.\" He had a difficult upbringing and was arrested in 1849 for his involvement in conversations against censorship. His death sentence was commuted to hard labor, and he spent several years in Siberia. Dostoevsky suffered from epilepsy and experienced intense suffering during his imprisonment, which influenced his writing. He faced financial struggles throughout his life but was beloved by readers in Russia. He died in 1880 and was mourned by many. Dostoevsky\\'s insight and wisdom in his writing resonated with readers and made him a highly regarded author.'}}"
      ]
     },
     "execution_count": 50,
     "metadata": {},
     "output_type": "execute_result"
    }
   ],
   "source": [
    "summarize_document"
   ]
  },
  {
   "cell_type": "code",
   "execution_count": 55,
   "id": "5751bd69",
   "metadata": {},
   "outputs": [
    {
     "name": "stdout",
     "output_type": "stream",
     "text": [
      "JSON data saved to summarize_document.json\n"
     ]
    }
   ],
   "source": [
    "import json\n",
    "# Specify the file path where you want to save the JSON data\n",
    "json_file_path = \"summarize_document.json\"\n",
    "\n",
    "# Convert the dictionary to JSON and save it to the file\n",
    "with open(json_file_path, \"w\", encoding=\"utf-8\") as json_file:\n",
    "    json.dump(summarize_document, json_file, ensure_ascii=False, indent=4)\n",
    "\n",
    "# Print a message indicating that the data has been saved\n",
    "print(f\"JSON data saved to {json_file_path}\")"
   ]
  },
  {
   "cell_type": "code",
   "execution_count": 66,
   "id": "6bbd8a15",
   "metadata": {},
   "outputs": [],
   "source": [
    "# Reorder the dictionary by moving \"Translator’s Preface\" to the beginning\n",
    "reordered_data = {\n",
    "    \"Translator’s Preface\": summarize_document[\"Translator’s Preface\"],\n",
    "    **{key: summarize_document[key] for key in summarize_document if key != \"Translator’s Preface\"}\n",
    "}"
   ]
  },
  {
   "cell_type": "code",
   "execution_count": 67,
   "id": "df2e9ede",
   "metadata": {},
   "outputs": [
    {
     "data": {
      "text/plain": [
       "{'Translator’s Preface': {' ': 'Fyodor Dostoevsky was a Russian author known for his novel \"Crime and Punishment.\" He had a difficult upbringing and was arrested in 1849 for his involvement in conversations against censorship. His death sentence was commuted to hard labor, and he spent several years in Siberia. Dostoevsky suffered from epilepsy and experienced intense suffering during his imprisonment, which influenced his writing. He faced financial struggles throughout his life but was beloved by readers in Russia. He died in 1880 and was mourned by many. Dostoevsky\\'s insight and wisdom in his writing resonated with readers and made him a highly regarded author.'},\n",
       " 'Part I': {'Chapter 1': 'On a hot evening in July, a young man leaves his garret and walks towards a bridge, avoiding his landlady. He is in debt to her and afraid of meeting her. The young man is in an irritable and isolated state, and fears interacting with anyone. He is absorbed in himself and has given up on practical matters. He is going to attempt something, but is unsure and frightened. The heat and unpleasant surroundings exacerbate his already strained nerves. He enters a tavern and drinks beer, feeling a temporary relief from his worries. However, he senses that his newfound cheerfulness is not normal. The tavern is mostly empty, with a few drunk men and a suspicious-looking man.',\n",
       "  'Chapter 2': \"Raskolnikov, who usually avoids crowds, suddenly feels a desire to be around people. He goes to a tavern and notices a retired clerk who seems interested in talking to him. The clerk, Marmeladov, tells Raskolnikov about his struggles with poverty and his wife's mistreatment. Marmeladov reveals that he recently stole money from his wife and spent it on alcohol. Raskolnikov leaves the tavern and goes to Marmeladov's home, where he witnesses the chaotic and impoverished living conditions. He leaves some money for Marmeladov's family and reflects on the nature of humanity.\",\n",
       "  'Chapter 3': 'The protagonist wakes up feeling sick and irritable in his small, run-down room. He is avoiding contact with others and neglecting his basic needs. His landlady is upset with him for not paying rent and threatens to involve the police. He receives a letter from his mother, informing him that his sister is engaged to a wealthy man and they are planning to move to Petersburg. The protagonist becomes angry and bitter, and goes for a walk, muttering to himself.',\n",
       "  'Chapter 4': \"The protagonist, Raskolnikov, receives a letter from his mother informing him of his sister's engagement to a man named Mr. Luzhin. Raskolnikov is angered by the news and believes that his sister is sacrificing herself for the sake of their family. He encounters a drunk girl on the street and tries to help her, but is interrupted by a man who seems interested in her. Raskolnikov eventually decides to go visit his friend Razumihin, whom he hasn't seen in months.\",\n",
       "  'Chapter 5': \"Raskolnikov contemplates going to Razumihin for help, but questions the usefulness of it. He has a strange thought about going to Razumihin's the next day after something happens. He then has a vivid dream about witnessing the brutal beating of a horse. He wakes up feeling relieved and free from a burden. He crosses the Hay Market and overhears a conversation about an opportunity to carry out his plan to kill an old woman. He realizes that this is the perfect opportunity and feels that his fate is sealed.\",\n",
       "  'Chapter 6': \"Raskolnikov discovers that Lizaveta was invited to the huckster's house because they were looking for a dealer to buy their household goods. Raskolnikov becomes superstitious and believes that there are strange coincidences surrounding his encounters with the huckster and Lizaveta. He overhears a conversation about the pawnbroker Alyona Ivanovna and learns more about her and Lizaveta. Raskolnikov becomes fixated on the idea of committing a crime and justifying it by using the stolen money for the benefit of others. He plans to steal an axe from the kitchen and carry out his plan. However, when he arrives at the house, he realizes that Nastasya, the landlady, is in the kitchen and he cannot access the axe. He becomes frustrated but then notices a wagon of hay that blocks him from view as he enters the gate. He successfully enters the building and begins ascending the stairs to the old woman's apartment. He rings the bell but there is no answer. He hears someone inside and realizes that the old woman is suspicious and listening at the door. He rings the bell again and waits patiently.\",\n",
       "  'Chapter 7': 'In this passage, Raskolnikov enters the apartment of the old woman he plans to rob and murder. He tries to convince her to let him in, but she is suspicious. Eventually, he forces his way in and kills her with an axe. He then searches for valuables and finds a purse. As he is leaving, he hears someone approaching and hides in an empty flat. He narrowly avoids being caught by the person who enters the apartment. Raskolnikov then makes his way home, feeling exhausted and disoriented. He manages to return the axe to its hiding place and collapses on his sofa.'},\n",
       " 'Part II': {'Chapter 1': \"The protagonist, Raskolnikov, wakes up after a long period of unconsciousness and realizes that it is already late into the night. He hears fearful cries from the street and realizes that it is past two o'clock. He suddenly remembers everything that happened the previous night and becomes filled with fear and despair. He notices some drops of blood on his trousers and tries to hide them. He also remembers that he still has the stolen items in his pockets and quickly hides them as well. He is then summoned to the police office and goes there, feeling a mix of fear and relief. At the police office, he witnesses a scandal involving a woman and an officer. He then has a sudden realization that he can no longer appeal to anyone for help and feels a deep sense of loneliness. He signs a declaration stating that he cannot pay his debts and leaves the office. He faints and when he regains consciousness, he is questioned by the police officers. He is then allowed to leave and realizes that a search will be conducted at his home. He rushes home, feeling terrified.\",\n",
       "  'Chapter 2': 'In this passage, Raskolnikov is in a state of panic and paranoia after committing a crime. He searches his room for any evidence that may have been left behind and finds several items, which he hides in his pockets. He then goes out to dispose of the evidence, but struggles to find a suitable place. Eventually, he throws the items into a hidden hollow under a stone. He returns home and falls into a deep sleep, only to be woken up by the sound of his landlady being beaten. However, it is revealed that this was all in his imagination and he is suffering from hallucinations.',\n",
       "  'Chapter 3': \"The protagonist is recovering from an illness and experiencing delirium. He remembers people coming and going from his room, threatening and mocking him. He is confused about the passage of time and struggles to remember certain things. Eventually, he regains consciousness and is visited by a friend who brings him new clothes. The friend also mentions that the protagonist's mother sent him money. The chapter ends with the entrance of a tall, stout man.\",\n",
       "  'Chapter 4': \"Zossimov is described as a tall, fat man with a clean-shaven face and fashionable attire. He is slow and nonchalant in manner, but his self-importance is apparent. He is considered clever at his work, but his acquaintances find him tedious. Razumihin informs Zossimov that Raskolnikov has come to himself and Zossimov examines him. Raskolnikov is still depressed and has a headache. Zossimov advises against giving him certain foods and medicine. Razumihin plans to take Raskolnikov for a walk the next day. They discuss a house-painter who is accused of murder and the discovery of earrings in his possession. Zossimov questions the evidence and Razumihin defends the painter's innocence. They debate the details of the case and Zossimov questions the validity of the evidence. Raskolnikov suddenly becomes agitated and asks about the earrings being found behind the door. The conversation continues, with Razumihin defending the painter's innocence and Zossimov questioning the evidence. The chapter ends with the entrance of a stranger.\",\n",
       "  'Chapter 5': \"A gentleman arrives at Raskolnikov's apartment and is surprised by the poor conditions. He introduces himself as Pyotr Petrovitch Luzhin and mentions that he is engaged to Raskolnikov's sister. Raskolnikov shows little interest and insults Luzhin. Luzhin leaves in anger. Raskolnikov becomes agitated and asks to be left alone.\",\n",
       "  'Chapter 6': \"After leaving his apartment, the protagonist, Raskolnikov, becomes calm and focused. He dresses in new clothes, takes money from his table, and leaves his building. He encounters a street musician and gives money to a young girl. He then walks to a crowded area and contemplates his plan to end everything. He goes to a restaurant, reads the newspaper, and runs into an acquaintance, Zametov. They have a strange conversation about crimes and Raskolnikov's mental state. Raskolnikov continues walking and witnesses a woman attempting to drown herself. She is saved, and Raskolnikov continues on his way. He encounters his friend Razumihin, who invites him to a party, but Raskolnikov declines. He walks to his former apartment building and enters the empty flat. He then goes to the police station, but is thrown out by the porter. Raskolnikov contemplates his next move and sees a crowd gathered in the distance. He walks towards it, ready to face whatever comes next.\",\n",
       "  'Chapter 7': \"In this passage, an accident occurs where a man is run over by a carriage. Raskolnikov, the protagonist, pushes through the crowd to see what happened and realizes that the injured man is Marmeladov, a government clerk. Raskolnikov offers to pay for a doctor and insists that Marmeladov be taken to his lodging. The police agree and Raskolnikov slips them some money. They take Marmeladov to his home, where his wife and children are waiting. Katerina Ivanovna, Marmeladov's wife, is distraught and worried about how they will afford to bury him. Raskolnikov gives her money and promises to come back the next day. He then goes to see his friend Razumihin, who is hosting a gathering. Raskolnikov tells Razumihin that he won their bet and that he is feeling better. However, he suddenly feels weak and sad and rushes home. When he arrives, he is surprised to find his mother and sister waiting for him. Overwhelmed, he faints and Razumihin helps him onto the sofa. The family is grateful to Razumihin for his help.\"},\n",
       " 'Part III': {'Chapter 1': \"Raskolnikov's mother and sister visit him in his apartment, where he is in a state of emotional distress. Raskolnikov asks his mother and sister to leave and stay with his friend Razumihin. He also tells them to refuse a marriage proposal from a man named Luzhin. Raskolnikov's mother and sister are concerned for his well-being and leave with Razumihin. Later, Zossimov, a doctor, visits Raskolnikov's apartment and reassures his family that he is recovering. Razumihin and Zossimov have a conversation outside, where Razumihin reveals his infatuation with Avdotya Romanovna, Raskolnikov's sister. He asks Zossimov to spend time with her and keep her company. Zossimov is amused by Razumihin's behavior and agrees to help.\",\n",
       "  'Chapter 2': \"Razumihin wakes up troubled and serious, realizing that he had a novel experience the previous day. He feels ashamed of his drunken behavior and criticizes himself for his jealousy towards Avdotya Romanovna's fiancé. He is concerned about Raskolnikov's mental state and the upcoming meeting with Pyotr Petrovitch. Pulcheria Alexandrovna shares a letter from Pyotr Petrovitch, expressing her worries about Raskolnikov's reaction. They decide to go to Raskolnikov's and seek Razumihin's advice on how to handle the situation.\",\n",
       "  'Chapter 3': \"Raskolnikov is visited by Zossimov and his family, who are relieved to see that he is feeling better. However, Raskolnikov still appears pale and somber, and there is a sense of tension in the room. Zossimov advises Raskolnikov to avoid certain triggers that may worsen his condition, and Raskolnikov agrees to return to the university. The conversation then turns to Raskolnikov's sister, Dounia, who is planning to marry a man named Luzhin. Raskolnikov expresses his disapproval and warns Dounia that he will no longer consider her his sister if she goes through with the marriage. Dounia defends her decision, and Raskolnikov reluctantly accepts it. The family then discusses a letter from Luzhin, which Raskolnikov criticizes for its uneducated style. He also points out a slanderous remark about him in the letter. Despite this, Raskolnikov agrees to attend a meeting with Luzhin later that evening.\",\n",
       "  'Chapter 4': \"In this passage, Raskolnikov is surprised when a young girl named Sofya Semyonovna Marmeladov enters the room. He had seen her the day before in different circumstances and did not recognize her at first. She is timid and dressed modestly. Raskolnikov feels sorry for her and invites her to sit down. Razumihin, Raskolnikov's friend, gives up his seat for her. Sofya Semyonovna explains that she has come on behalf of Katerina Ivanovna to invite Raskolnikov to a service and funeral lunch. Raskolnikov agrees to attend. After Sofya Semyonovna leaves, Raskolnikov and Razumihin discuss going to see Porfiry Petrovitch, a detective involved in a murder case. Raskolnikov is worried that Porfiry knows he was at the old woman's flat and asked about the blood. They enter Porfiry's flat laughing, but Razumihin warns Raskolnikov to be careful.\",\n",
       "  'Chapter 5': 'Raskolnikov enters a room with Razumihin and encounters Porfiry Petrovitch. Raskolnikov tries to control his laughter while Razumihin appears embarrassed and angry. Porfiry questions Raskolnikov about a recent article he wrote, discussing the idea that extraordinary people have the right to commit crimes. Raskolnikov defends his argument and asserts that great men often suffer for their actions. Porfiry asks Raskolnikov about a specific incident on the day of the murder, but Raskolnikov denies seeing anything. They leave the room, feeling gloomy and tense.',\n",
       "  'Chapter 6': \"Razumihin and Raskolnikov are discussing the recent events and suspicions surrounding Raskolnikov. Razumihin is perplexed by Raskolnikov's arguments and is in disbelief. Raskolnikov believes that the police have no real evidence against him and are trying to intimidate him. He also reflects on his actions and feelings of guilt. Later, Raskolnikov has a disturbing dream and is then confronted by a stranger named Svidrigaïlov.\"},\n",
       " 'Part IV': {'Chapter 1': \"Raskolnikov is visited by Svidrigaïlov, who claims to want to make his acquaintance and seek his assistance in winning over Raskolnikov's sister, Avdotya Romanovna. Raskolnikov is suspicious of Svidrigaïlov's intentions and refuses to help him. Svidrigaïlov talks about his past actions and his belief in ghosts. He also offers Raskolnikov money and reveals that Avdotya Romanovna is set to receive an inheritance. Raskolnikov is angered by Svidrigaïlov's audacity and refuses his offer. Svidrigaïlov leaves, but hints at a possible future encounter.\",\n",
       "  'Chapter 2': \"Two young men hurry to Bakaleyev's to arrive before Luzhin. They discuss Svidrigaïlov, a landowner who had insulted the sister of one of the men. Svidrigaïlov recently came to town and they fear he may harm the sister. They also mention Marfa Petrovna, Svidrigaïlov's wife, who recently died. The men then meet Luzhin, who had insulted the brother earlier. They argue and Luzhin eventually leaves.\",\n",
       "  'Chapter 3': 'In this passage, it is revealed that Pyotr Petrovitch, who had been overbearing and controlling towards Dounia and her mother, did not expect them to escape his control. He had a high opinion of himself and his intelligence, and saw his decision to marry Dounia as heroic. However, he is now feeling undeservedly injured and unrecognised. Dounia and her mother are relieved to be free from him, and Razumihin proposes a business venture to support them. Raskolnikov, however, is distant and decides to separate himself from his family. Razumihin tries to convince him to stay, but something passes between them that causes Razumihin to pale and Raskolnikov to leave abruptly.',\n",
       "  'Chapter 4': \"Raskolnikov goes to Sonia's house and they have a conversation about her difficult situation. Raskolnikov suggests that they go together and abandon their families. Sonia reads a passage from the Bible about the resurrection of Lazarus. Raskolnikov reveals that he knows who killed Lizaveta and promises to tell Sonia tomorrow. After he leaves, Sonia is left feeling feverish and delirious. Meanwhile, Svidrigaïlov listens to their conversation from the empty room next door.\",\n",
       "  'Chapter 5': 'Raskolnikov goes to the department of the investigation of criminal causes to meet with Porfiry Petrovitch. He is surprised at being kept waiting and begins to doubt whether Porfiry knows anything about his crime. When he finally meets with Porfiry, they engage in a tense conversation where Raskolnikov accuses Porfiry of lying and trying to manipulate him. The conversation ends abruptly when they hear a noise outside the door.',\n",
       "  'Chapter 6': \"In this passage, Raskolnikov is visited by a man who confesses to having wronged him and reveals that he was present during Raskolnikov's conversation with Porfiry. The man explains that he informed Porfiry about Raskolnikov's visit to the police station and witnessed Porfiry's reaction. Raskolnikov realizes that Porfiry has no concrete evidence against him and feels more confident. He leaves with a malicious smile, ready to fight for his innocence.\"},\n",
       " 'Part V': {'Chapter 1': 'Pyotr Petrovitch is forced to accept the reality of his failed relationship with Dounia and her mother. He is angry and frustrated, and his day is filled with unpleasantness, including issues with his legal case and the redecoration of his flat. He contemplates his mistakes and regrets not giving money to Dounia and her mother. He also considers the possibility of starting a new relationship and tries to convince himself that he can find someone better. Pyotr Petrovitch is irritated by his friend Andrey Semyonovitch Lebeziatnikov and suspects that he is being deceived. He also plans to attend a funeral dinner and is interested in meeting Raskolnikov, who will be there. Lebeziatnikov, who is interested in progressive ideas, discusses his beliefs with Pyotr Petrovitch, who finds them foolish. Pyotr Petrovitch then has a conversation with Sonia, offering her money and suggesting that a subscription be raised for her family. He warns her not to give the money to Katerina Ivanovna, as she will spend it on unnecessary things. Lebeziatnikov praises Pyotr Petrovitch for his actions, but Pyotr Petrovitch is preoccupied and not fully engaged in the conversation.',\n",
       "  'Chapter 2': \"Katerina Ivanovna hosts a dinner party to honor her deceased husband, but it is chaotic and filled with tension. She spends a large portion of the money given for her husband's funeral on the dinner, possibly to prove her superiority to the other lodgers. Katerina Ivanovna is proud and determined, but also mentally unstable. The guests include a mix of people, some of whom are disrespectful and disruptive. Katerina Ivanovna tries to maintain her dignity and impress her guests, but the dinner quickly spirals out of control.\",\n",
       "  'Chapter 3': \"In this passage, Katerina Ivanovna accuses Pyotr Petrovitch of mistreating her and demands protection. Pyotr Petrovitch denies the accusations and instead focuses on his own affairs. He then accuses Sonia of stealing money from him, but she denies it. Lebeziatnikov supports Sonia's innocence and accuses Pyotr Petrovitch of planting the money on her. Raskolnikov steps forward and explains that Pyotr Petrovitch had a motive to frame Sonia in order to separate him from his family. The crowd turns against Pyotr Petrovitch, who eventually leaves. Katerina Ivanovna is thrown out of her lodging and runs into the street in search of justice. Raskolnikov decides to go to Sonia's lodgings.\",\n",
       "  'Chapter 4': 'Raskolnikov, burdened by guilt and anguish, finds relief in defending Sonia against Luzhin. However, as he prepares to tell Sonia about killing Lizaveta, he becomes overwhelmed with fear and impotence. He hesitates at her door, questioning whether he should confess. When he finally enters, Sonia expresses her gratitude for his support. Raskolnikov confesses his crime to her, but she struggles to understand his motives. He contemplates his actions and realizes that he wanted to prove his superiority and gain power. Sonia urges him to confess and repent, but he resists, believing he can escape punishment. He informs Sonia that the police are after him and assures her that he will find a way to protect his family. They sit together, both feeling the weight of their love for each other. Raskolnikov tells Sonia not to visit him in prison, and she gives him a cross to wear. Just as they are about to discuss further, Lebeziatnikov knocks on the door.',\n",
       "  'Chapter 5': \"Lebeziatnikov informs Raskolnikov that Katerina Ivanovna has gone mad and is mistreating her children. Sonia rushes out to help, followed by Raskolnikov and Lebeziatnikov. They find Katerina Ivanovna in the street, singing and dancing with the children. She is eventually taken back to Sonia's room, where she dies. Svidrigaïlov offers to take care of the children and provide for them financially. He reveals that he has been living next door and has been observing Raskolnikov. Raskolnikov is shocked and disturbed by this revelation.\"},\n",
       " 'Part VI': {'Chapter 1': 'Raskolnikov is experiencing a strange period of fog and solitude, during which he believes his mind is clouded and he has made mistakes. He is plagued by uneasiness and panic, but also moments of apathy. He is particularly worried about Svidrigaïlov and feels the need to come to an understanding with him. Raskolnikov learns from Razumihin that his mother is ill and that Dounia received a disturbing letter. Razumihin also informs him that the murderer of the old woman has been found. Raskolnikov realizes that Porfiry suspects him and decides to confront him.',\n",
       "  'Chapter 2': 'Porfiry Petrovitch, a police investigator, visits Raskolnikov and tries to convince him to confess to the murders he committed. Porfiry believes that Raskolnikov is the murderer and offers him a chance to lessen his sentence by confessing. Raskolnikov initially refuses, but eventually considers the possibility. Porfiry warns Raskolnikov not to try to escape or harm himself, and asks him to leave a note if he decides to do so. After Porfiry leaves, Raskolnikov contemplates his options.',\n",
       "  'Chapter 3': \"The protagonist, Raskolnikov, hurries to meet Svidrigaïlov, a man who has some hidden power over him. Raskolnikov is unsure of what he hopes to gain from Svidrigaïlov, but feels compelled to see him. On his way, he wonders if Svidrigaïlov has been to see Porfiry, a police investigator. Raskolnikov is unsure, but believes that Svidrigaïlov has not been to see Porfiry yet. He contemplates whether it is worth it to try to prevent Svidrigaïlov from going to see Porfiry and whether it is worth investigating him further. Raskolnikov is tired and anxious about his immediate future, but is more concerned about the possibility of Svidrigaïlov using his secret against his sister, Dounia. Raskolnikov arrives at a tavern and finds Svidrigaïlov there. They engage in conversation, with Svidrigaïlov revealing that he is a gambler and has a passion for women. Raskolnikov confronts Svidrigaïlov about his intentions towards Dounia and warns him that he will kill him if he tries to harm her. Svidrigaïlov admits that he is afraid of death and dislikes talking about it. They discuss their different perspectives on vice and aesthetics. Raskolnikov becomes uncomfortable and wants to leave, but Svidrigaïlov asks him to stay and tells him a story about a woman who tried to save him, revealing that the woman is Raskolnikov's sister, Avdotya Romanovna.\",\n",
       "  'Chapter 4': \"In this passage, Svidrigaïlov reveals to Raskolnikov the details of his marriage to Marfa Petrovna, including their agreement to allow him to have affairs with other women. He also confesses his attraction to Raskolnikov's sister, Avdotya Romanovna, and his plans to marry another young girl. Raskolnikov becomes suspicious of Svidrigaïlov's intentions and decides to follow him.\",\n",
       "  'Chapter 5': \"In this passage, Raskolnikov confronts Svidrigaïlov about his intentions towards his sister and accuses him of pursuing her. Raskolnikov threatens to call the police, but Svidrigaïlov dismisses his concerns and tries to befriend him. Raskolnikov remains suspicious and decides to follow Svidrigaïlov to his lodgings. Meanwhile, Dounia, Raskolnikov's sister, meets with Svidrigaïlov and he confesses to her that Raskolnikov is a murderer. Dounia is in disbelief and pulls out a revolver, threatening to shoot Svidrigaïlov. However, she ultimately decides not to and flees from the room. Svidrigaïlov is left in despair and contemplates his actions before leaving the room.\",\n",
       "  'Chapter 6': 'Svidrigaïlov spends the evening going to various low places and treating people to drinks. He ends up in a pleasure garden where a fight breaks out among some clerks. He leaves and walks home in the rain. He then goes to see Sonia, giving her money and making arrangements for her and her family. Later, he has a disturbing dream and wakes up feeling unsettled. He leaves his hotel and encounters a man named Achilles. Svidrigaïlov tells Achilles he is going to America and then shoots himself in the head.',\n",
       "  'Chapter 7': 'Raskolnikov, in a state of exhaustion and distress, visits his mother and confesses his love for her. He then meets with his sister, Dounia, who is horrified to learn that he has committed a crime. Raskolnikov defends his actions, believing that he has done a service to society. He decides to turn himself in and contemplates the consequences of his actions. Despite his inner turmoil, he pushes away Dounia and walks away, feeling a mix of anger and self-hatred.',\n",
       "  'Chapter 8': \"In this passage, Raskolnikov confesses to the murder of the pawnbroker and her sister and is sentenced to eight years of penal servitude. He reflects on his crime and his feelings of shame and isolation in prison. Meanwhile, Sonia, who has been visiting him, falls ill but assures him she is getting better. Raskolnikov dreams of a plague that destroys humanity except for a chosen few. He is released from prison and reunites with Sonia, and they both feel a sense of renewal and hope for the future. The passage ends by hinting at the possibility of a new story, one that explores Raskolnikov's transformation and redemption.\"}}"
      ]
     },
     "execution_count": 67,
     "metadata": {},
     "output_type": "execute_result"
    }
   ],
   "source": [
    "reordered_data"
   ]
  },
  {
   "cell_type": "markdown",
   "id": "d989ef55",
   "metadata": {},
   "source": [
    "# PDF Generation of Summary"
   ]
  },
  {
   "cell_type": "code",
   "execution_count": 113,
   "id": "b37651cd",
   "metadata": {},
   "outputs": [
    {
     "name": "stdout",
     "output_type": "stream",
     "text": [
      "PDF created: summarize_document.pdf\n"
     ]
    }
   ],
   "source": [
    "from reportlab.lib.pagesizes import letter\n",
    "from reportlab.platypus import SimpleDocTemplate, Paragraph, Spacer\n",
    "from reportlab.lib.styles import getSampleStyleSheet\n",
    "\n",
    "# Create a PDF document\n",
    "pdf_file_path = \"summarize_document.pdf\"\n",
    "doc = SimpleDocTemplate(pdf_file_path, pagesize=letter)\n",
    "\n",
    "story = []\n",
    "\n",
    "# Define padding values\n",
    "padding_left = 50  # Adjust the left padding\n",
    "padding_right = 50  # Adjust the right padding\n",
    "padding_top = 50  # Adjust the top padding\n",
    "padding_bottom = 50  # Adjust the bottom padding\n",
    "\n",
    "# Define a style for the title\n",
    "title_style = getSampleStyleSheet()[\"Title\"]\n",
    "title_style.fontName = \"Helvetica-Bold\"\n",
    "title_style.alignment = 1  # Centered\n",
    "title_style.fontSize = 42  # Increase the font size for the title\n",
    "title_style.leading = 56  # Increase the line spacing (leading) for the title\n",
    "\n",
    "# Define a style for the top-level section titles (Heading1)\n",
    "styles = getSampleStyleSheet()\n",
    "heading1_style = styles[\"Heading1\"]\n",
    "heading1_style.fontSize = 36  # Increase the font size for Heading1\n",
    "heading1_style.leading = 48  # Increase the line spacing (leading) for the title\n",
    "\n",
    "heading2_style = styles[\"Heading2\"]\n",
    "heading2_style.fontSize = 28  # Increase the font size for Heading1\n",
    "heading2_style.leading = 36  # Increase the line spacing (leading) for the title\n",
    "\n",
    "# Define a style for the paragraphs\n",
    "style = styles[\"Normal\"]\n",
    "style.fontSize = 14  # Increase the font size for the paragraphs\n",
    "style.leading = 20  # Increase the line spacing (leading) for the title\n",
    "\n",
    "# Add the title to the PDF\n",
    "title_text = \"Summary: Crime and Punishment\"\n",
    "title = Paragraph(title_text, title_style)\n",
    "story.append(title)\n",
    "\n",
    "# Add spacing above the title\n",
    "story.append(Spacer(1, padding_top))\n",
    "\n",
    "# Iterate through the JSON data and add the \"Translator’s Preface,\" parts, chapters, and summaries to the PDF\n",
    "for section, chapters in reordered_data.items():\n",
    "    # Add the section title to the PDF\n",
    "    section_title = Paragraph(section, heading1_style)  # Use the Heading1 style for top-level titles\n",
    "    story.append(section_title)\n",
    "    \n",
    "    for chapter, summary in chapters.items():\n",
    "        # Skip the empty chapter title for the \"Translator’s Preface\"\n",
    "        if chapter:\n",
    "            # Add the chapter title to the PDF\n",
    "            chapter_title = Paragraph(chapter, heading2_style)\n",
    "            story.append(chapter_title)\n",
    "        \n",
    "        # Add the chapter summary to the PDF\n",
    "        chapter_summary = Paragraph(summary, style)\n",
    "        story.append(chapter_summary)\n",
    "        \n",
    "        # Add space between chapters\n",
    "    story.append(Spacer(1, padding_bottom + 20))  # Add spacing below each chapter\n",
    "\n",
    "# Build the PDF document\n",
    "doc.build(story)\n",
    "\n",
    "print(f\"PDF created: {pdf_file_path}\")\n"
   ]
  }
 ],
 "metadata": {
  "kernelspec": {
   "display_name": "Python 3 (ipykernel)",
   "language": "python",
   "name": "python3"
  },
  "language_info": {
   "codemirror_mode": {
    "name": "ipython",
    "version": 3
   },
   "file_extension": ".py",
   "mimetype": "text/x-python",
   "name": "python",
   "nbconvert_exporter": "python",
   "pygments_lexer": "ipython3",
   "version": "3.11.5"
  }
 },
 "nbformat": 4,
 "nbformat_minor": 5
}
